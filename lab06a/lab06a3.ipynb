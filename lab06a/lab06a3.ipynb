{
 "metadata": {
  "name": "",
  "signature": "sha256:237ab3d9abf38e0a24fc5f278e63faa7fedc35ad75eff73c50249be5587e9f1a"
 },
 "nbformat": 3,
 "nbformat_minor": 0,
 "worksheets": [
  {
   "cells": [
    {
     "cell_type": "markdown",
     "metadata": {},
     "source": [
      "## Valores e medidas "
     ]
    },
    {
     "cell_type": "code",
     "collapsed": false,
     "input": [
      "from sympy import *\n",
      "import numpy as np\n",
      "from scipy import stats\n",
      "init_printing()\n",
      "\n",
      "## formulas de erro\n",
      "def erro_estatistico(list):\n",
      "    return np.std(list)/np.sqrt(len(list))\n",
      "\n",
      "def erro_total(list,erro_instrumental):\n",
      "    return norma(erro_estatistico(list), erro_instrumental)\n",
      "\n",
      "def norma(*args):\n",
      "    return sqrt(sum([arg**2 for arg in args]))\n",
      "\n",
      "\n",
      "\n",
      "\n",
      "\n",
      "erro_cronometro = 0.3\n",
      "T, E_T , E_U, U = symbols(\"t \\Delta{t} \\Delta{U} U\")\n",
      "\n",
      "\n",
      "valor = {}\n",
      "valor[E_T] = 0.5\n",
      "valor[E_U] = 0.01\n",
      "\n",
      "Medidas_cruas = [ \n",
      "    {T:89, U:4.62},\n",
      "    {T:87, U:4.40},\n",
      "    {T:84, U:4.19},\n",
      "    {T:80, U:3.96},\n",
      "    {T:78, U:3.82},\n",
      "    {T:65, U:3.04},\n",
      "    {T:62, U:2.89},\n",
      "    {T:54, U:2.44},\n",
      "    {T:51, U:2.31},\n",
      "    {T:47, U:2.03},\n",
      "    {T:45, U:1.94},\n",
      "    {T:42, U:1.80},\n",
      "    {T:40, U:1.69},\n",
      "    {T:37, U:1.44},\n",
      "   ]\n",
      "\n",
      "Dados_Tabela={'T':[35,40,45,50,56,60,65,70,75,80,85],\n",
      "              'U':[1.787,2.058,2.321,2.585,2.902,3.115,3.381,3.648,3.917,4.186,4.455]}\n",
      "\n",
      "\n",
      "\n",
      "\n",
      "\n",
      "\n",
      "Medidas = []\n",
      "for med in Medidas_cruas: \n",
      "      \n",
      "    \n",
      "    Medidas.append(med)\n",
      "        \n",
      "    \n",
      "    \n",
      "    \n",
      "\n",
      "\n",
      "\n",
      "\n",
      "\n"
     ],
     "language": "python",
     "metadata": {},
     "outputs": [],
     "prompt_number": 12
    },
    {
     "cell_type": "markdown",
     "metadata": {},
     "source": [
      "###Regress\u00e3o linear"
     ]
    },
    {
     "cell_type": "code",
     "collapsed": false,
     "input": [
      "eixo_x = [medida[T] for medida in Medidas]\n",
      "eixo_y = [medida[U] for medida in Medidas]\n",
      "\n",
      "erros_y = [valor[E_U] for medida in Medidas] \n",
      "w = [1/erro**2 for erro in erros_y]\n",
      "\n",
      "a,b = np.polyfit(eixo_x,eixo_y,1,w=w)\n",
      "print(\"a = \" + str(a))\n",
      "print(\"b = \" +  str(b))\n",
      "\n",
      "\n"
     ],
     "language": "python",
     "metadata": {},
     "outputs": [
      {
       "output_type": "stream",
       "stream": "stdout",
       "text": [
        "a = 0.0585523048688\n",
        "b = -0.703109606576\n"
       ]
      }
     ],
     "prompt_number": 13
    },
    {
     "cell_type": "markdown",
     "metadata": {},
     "source": [
      "#### Erro da lineariza\u00e7\u00e3o"
     ]
    },
    {
     "cell_type": "code",
     "collapsed": false,
     "input": [
      "soma_wx2 = sum([w[i] * eixo_x[i]**2 for i in range(len(eixo_x))])\n",
      "soma_wx = sum( [w[i] * eixo_x[i] for i in range(len(eixo_x))])\n",
      "\n",
      "delta = sum(w)*soma_wx2 - soma_wx**2\n",
      "\n",
      "type(np)\n",
      "\n",
      "erro_a = sqrt(sum(w)/delta)\n",
      "erro_b = sqrt(soma_wx2/delta)\n",
      "\n",
      "\n",
      "\n",
      "print(\"a = \" + str(np.round(a,decimals=5)) \n",
      "      + \" +/- \" +  str(erro_a))\n",
      "\n",
      "print(\"b = \" + str(np.round(b,decimals=4))\n",
      "      + \" +/- \"  + str(erro_b) )"
     ],
     "language": "python",
     "metadata": {},
     "outputs": [
      {
       "output_type": "stream",
       "stream": "stdout",
       "text": [
        "a = 0.05855 +/- 0.000146939705743689\n",
        "b = -0.7031 +/- 0.00942371821762857\n"
       ]
      }
     ],
     "prompt_number": 14
    },
    {
     "cell_type": "markdown",
     "metadata": {},
     "source": [
      "## Plotagem"
     ]
    },
    {
     "cell_type": "code",
     "collapsed": false,
     "input": [
      "import matplotlib\n",
      "import matplotlib.pyplot as plt\n",
      "from pylab import *\n",
      "%matplotlib inline\n",
      "\n",
      "font = {'family' : 'Sans-Serif',        \n",
      "        'size'   : 18}\n",
      "\n",
      "matplotlib.rc('font', **font)\n",
      "\n",
      "line = [a*x + b for x in [30,90]]\n",
      "plt.plot(eixo_x, eixo_y, 'o', [30,90], line)\n",
      "plt.plot(Dados_Tabela['T'],Dados_Tabela['U'],'ro')\n",
      "plt.errorbar(eixo_x, eixo_y, yerr=erros_y, fmt=\"none\" )\n",
      "plt.ylabel('$ Tens\u00e3o \\; (mV)$')\n",
      "plt.xlabel('$ Temperatura \\; (C)$')\n",
      "\n",
      "\n",
      "\n",
      "\n",
      "plt.gcf().set_size_inches(14,9)\n",
      "plt.show()\n",
      "\n"
     ],
     "language": "python",
     "metadata": {},
     "outputs": [
      {
       "metadata": {},
       "output_type": "display_data",
       "png": "[encoded data removed]",
       "text": [
        "<matplotlib.figure.Figure at 0x7f33ae03e0b8>"
       ]
      }
     ],
     "prompt_number": 17
    },
    {
     "cell_type": "markdown",
     "metadata": {},
     "source": [
      "#Tabelas"
     ]
    },
    {
     "cell_type": "code",
     "collapsed": false,
     "input": [
      "from tabulate import tabulate\n",
      "print(tabulate(Medidas_cruas,tablefmt=\"latex\"))"
     ],
     "language": "python",
     "metadata": {},
     "outputs": [
      {
       "output_type": "stream",
       "stream": "stdout",
       "text": [
        "\\begin{tabular}{rr}\n",
        "\\hline\n",
        " 4.62 & 89 \\\\\n",
        " 4.4  & 87 \\\\\n",
        " 4.19 & 84 \\\\\n",
        " 3.96 & 80 \\\\\n",
        " 3.82 & 78 \\\\\n",
        " 3.04 & 65 \\\\\n",
        " 2.89 & 62 \\\\\n",
        " 2.44 & 54 \\\\\n",
        " 2.31 & 51 \\\\\n",
        " 2.03 & 47 \\\\\n",
        " 1.94 & 45 \\\\\n",
        " 1.8  & 42 \\\\\n",
        " 1.69 & 40 \\\\\n",
        " 1.44 & 37 \\\\\n",
        "\\hline\n",
        "\\end{tabular}\n"
       ]
      }
     ],
     "prompt_number": 18
    },
    {
     "cell_type": "code",
     "collapsed": false,
     "input": [],
     "language": "python",
     "metadata": {},
     "outputs": []
    }
   ],
   "metadata": {}
  }
 ]
}