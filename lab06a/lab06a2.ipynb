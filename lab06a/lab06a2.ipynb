{
 "metadata": {
  "name": "",
  "signature": "sha256:7102110bac74f91220d99cb79d1c8b3637907fdf6a61db25fed73740c7065da4"
 },
 "nbformat": 3,
 "nbformat_minor": 0,
 "worksheets": [
  {
   "cells": [
    {
     "cell_type": "markdown",
     "metadata": {},
     "source": [
      "## Valores e medidas "
     ]
    },
    {
     "cell_type": "code",
     "collapsed": false,
     "input": [
      "from sympy import *\n",
      "import numpy as np\n",
      "from scipy import stats\n",
      "init_printing()\n",
      "\n",
      "## formulas de erro\n",
      "def erro_estatistico(list):\n",
      "    return np.std(list)/np.sqrt(len(list))\n",
      "\n",
      "def erro_total(list,erro_instrumental):\n",
      "    return norma(erro_estatistico(list), erro_instrumental)\n",
      "\n",
      "def norma(*args):\n",
      "    return sqrt(sum([arg**2 for arg in args]))\n",
      "\n",
      "\n",
      "\n",
      "\n",
      "\n",
      "erro_cronometro = 0.3\n",
      "T, E_T , E_U, U = symbols(\"T \\Delta{T} \\Delta{U} U\")\n",
      "tempo, E_tempo = symbols(\"t \\Delta{t}\")\n",
      "\n",
      "\n",
      "valor = {}\n",
      "valor[E_T] = 0.5\n",
      "valor[E_tempo] = 0.5\n",
      "\n",
      "\n",
      "Medidas_cruas = [ \n",
      "    {T:89,tempo:0},\n",
      "    {T:78,tempo:700},\n",
      "    {T:76,tempo:860},\n",
      "    {T:71,tempo:1500},\n",
      "    {T:70,tempo:1610}\n",
      "  \n",
      "   ]\n",
      "\n",
      "\n",
      "Medidas = []\n",
      "for med in Medidas_cruas: \n",
      "    delta_T = med[T] - 26.5\n",
      "    Medidas.append({T:delta_T,tempo:med[tempo]})    \n",
      "    \n",
      "    \n",
      "        \n",
      "    \n",
      "    \n",
      "    \n",
      "\n",
      "\n",
      "\n",
      "\n",
      "\n"
     ],
     "language": "python",
     "metadata": {},
     "outputs": [],
     "prompt_number": 1
    },
    {
     "cell_type": "markdown",
     "metadata": {},
     "source": [
      "###Regress\u00e3o linear"
     ]
    },
    {
     "cell_type": "code",
     "collapsed": false,
     "input": [
      "eixo_y = [np.log(medida[T]) for medida in Medidas]\n",
      "eixo_x = [medida[tempo] for medida in Medidas]\n",
      "\n",
      "erros_y = [valor[E_T]/medida[T] for medida in Medidas] \n",
      "w = [1/erro**2 for erro in erros_y]\n",
      "\n",
      "a,b = np.polyfit(eixo_x,eixo_y,1,w=w)\n",
      "print(\"a = \" + str(a))\n",
      "print(\"b = \" +  str(b))\n",
      "\n",
      "\n"
     ],
     "language": "python",
     "metadata": {},
     "outputs": [
      {
       "output_type": "stream",
       "stream": "stdout",
       "text": [
        "a = -0.000232191371817\n",
        "b = 4.12553096995\n"
       ]
      }
     ],
     "prompt_number": 3
    },
    {
     "cell_type": "markdown",
     "metadata": {},
     "source": [
      "#### Erro da lineariza\u00e7\u00e3o"
     ]
    },
    {
     "cell_type": "code",
     "collapsed": false,
     "input": [
      "soma_wx2 = sum([w[i] * eixo_x[i]**2 for i in range(len(eixo_x))])\n",
      "soma_wx = sum( [w[i] * eixo_x[i] for i in range(len(eixo_x))])\n",
      "\n",
      "delta = sum(w)*soma_wx2 - soma_wx**2\n",
      "\n",
      "type(np)\n",
      "\n",
      "erro_a = sqrt(sum(w)/delta)\n",
      "erro_b = sqrt(soma_wx2/delta)\n",
      "\n",
      "\n",
      "\n",
      "print(\"a = \" + str(np.round(a,decimals=5)) \n",
      "      + \" +/- \" +  str(erro_a))\n",
      "\n",
      "print(\"b = \" + str(np.round(b,decimals=4))\n",
      "      + \" +/- \"  + str(erro_b) )"
     ],
     "language": "python",
     "metadata": {},
     "outputs": [
      {
       "output_type": "stream",
       "stream": "stdout",
       "text": [
        "a = -0.00023 +/- 7.26317286669725e-6\n",
        "b = 4.1255 +/- 0.00714694018976804\n"
       ]
      }
     ],
     "prompt_number": 4
    },
    {
     "cell_type": "markdown",
     "metadata": {},
     "source": [
      "## Plotagem"
     ]
    },
    {
     "cell_type": "code",
     "collapsed": false,
     "input": [
      "import matplotlib\n",
      "import matplotlib.pyplot as plt\n",
      "from pylab import *\n",
      "%matplotlib inline\n",
      "\n",
      "font = {'family' : 'Sans-Serif',        \n",
      "        'size'   : 18}\n",
      "\n",
      "matplotlib.rc('font', **font)\n",
      "\n",
      "line = [a*x + b for x in eixo_x]\n",
      "plt.plot(eixo_x, eixo_y, 'o', eixo_x, line)\n",
      "plt.xlim([-200,1800])\n",
      "plt.errorbar(eixo_x, eixo_y, yerr=erros_y, fmt=\"none\" )\n",
      "plt.ylabel('$ \\ln \\Delta T \\; (mV)$')\n",
      "plt.xlabel('$ tempo \\; (C)$')\n",
      "\n",
      "\n",
      "\n",
      "\n",
      "plt.gcf().set_size_inches(14,9)\n",
      "plt.show()\n",
      "\n"
     ],
     "language": "python",
     "metadata": {},
     "outputs": [
      {
       "metadata": {},
       "output_type": "display_data",
       "png": "[encoded data removed]",
       "text": [
        "<matplotlib.figure.Figure at 0x7ff2861d1dd8>"
       ]
      }
     ],
     "prompt_number": 8
    },
    {
     "cell_type": "markdown",
     "metadata": {},
     "source": [
      "#Tabelas"
     ]
    },
    {
     "cell_type": "code",
     "collapsed": false,
     "input": [
      "from tabulate import tabulate\n",
      "print(tabulate(Medidas_cruas,tablefmt=\"latex\"))"
     ],
     "language": "python",
     "metadata": {},
     "outputs": [
      {
       "output_type": "stream",
       "stream": "stdout",
       "text": [
        "\\begin{tabular}{rr}\n",
        "\\hline\n",
        "    0 & 89 \\\\\n",
        "  700 & 78 \\\\\n",
        "  860 & 76 \\\\\n",
        " 1500 & 71 \\\\\n",
        " 1610 & 70 \\\\\n",
        "\\hline\n",
        "\\end{tabular}\n"
       ]
      }
     ],
     "prompt_number": 9
    },
    {
     "cell_type": "code",
     "collapsed": false,
     "input": [],
     "language": "python",
     "metadata": {},
     "outputs": []
    }
   ],
   "metadata": {}
  }
 ]
}