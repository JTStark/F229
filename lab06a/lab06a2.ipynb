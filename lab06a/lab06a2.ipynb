{
 "metadata": {
  "name": "",
  "signature": "sha256:9feed0e570ff49c4038be23741afd097b4a72e6ae582d019728ed588c0c58ce7"
 },
 "nbformat": 3,
 "nbformat_minor": 0,
 "worksheets": [
  {
   "cells": [
    {
     "cell_type": "markdown",
     "metadata": {},
     "source": [
      "## Valores e medidas "
     ]
    },
    {
     "cell_type": "code",
     "collapsed": false,
     "input": [
      "from sympy import *\n",
      "import numpy as np\n",
      "from scipy import stats\n",
      "init_printing()\n",
      "\n",
      "## formulas de erro\n",
      "def erro_estatistico(list):\n",
      "    return np.std(list)/np.sqrt(len(list))\n",
      "\n",
      "def erro_total(list,erro_instrumental):\n",
      "    return norma(erro_estatistico(list), erro_instrumental)\n",
      "\n",
      "def norma(*args):\n",
      "    return sqrt(sum([arg**2 for arg in args]))\n",
      "\n",
      "\n",
      "\n",
      "\n",
      "\n",
      "erro_cronometro = 0.3\n",
      "T, E_T , E_U, U = symbols(\"T \\Delta{T} \\Delta{U} U\")\n",
      "tempo, E_tempo = symbols(\"t \\Delta{t}\")\n",
      "\n",
      "\n",
      "valor = {}\n",
      "valor[E_T] = 0.5\n",
      "valor[E_tempo] = 0.5\n",
      "\n",
      "\n",
      "Medidas_cruas = [ \n",
      "    {T:89,tempo:0},\n",
      "    {T:78,tempo:700},\n",
      "    {T:76,tempo:860},\n",
      "    {T:71,tempo:1500},\n",
      "    {T:70,tempo:1610}\n",
      "  \n",
      "   ]\n",
      "\n",
      "\n",
      "Medidas = []\n",
      "for med in Medidas_cruas: \n",
      "    delta_T = med[T] - 26.5\n",
      "    Medidas.append([med[T], #T\n",
      "                    \"$ \" + str(delta_T) + \" pm  0.7 $\", # delta T\n",
      "                    '$ ' + str(np.log(delta_T)) + \" pm \" + str(valor[E_T]/delta_T) + ' $',  #ln delta T                  \n",
      "                     med[tempo]])    #tempo\n",
      "    \n",
      "    \n",
      "        \n",
      "    \n",
      "    \n",
      "    \n",
      "\n",
      "\n",
      "\n",
      "\n",
      "\n"
     ],
     "language": "python",
     "metadata": {},
     "outputs": [],
     "prompt_number": 15
    },
    {
     "cell_type": "markdown",
     "metadata": {},
     "source": [
      "###Regress\u00e3o linear"
     ]
    },
    {
     "cell_type": "code",
     "collapsed": false,
     "input": [
      "eixo_y = [np.log(medida[T]) for medida in Medidas]\n",
      "eixo_x = [medida[tempo] for medida in Medidas]\n",
      "\n",
      "erros_y = [valor[E_T]/medida[T] for medida in Medidas] \n",
      "w = [1/erro**2 for erro in erros_y]\n",
      "\n",
      "a,b = np.polyfit(eixo_x,eixo_y,1,w=w)\n",
      "print(\"a = \" + str(a))\n",
      "print(\"b = \" +  str(b))\n",
      "\n",
      "\n"
     ],
     "language": "python",
     "metadata": {},
     "outputs": [
      {
       "output_type": "stream",
       "stream": "stdout",
       "text": [
        "a = -0.000232191371817\n",
        "b = 4.12553096995\n"
       ]
      }
     ],
     "prompt_number": 3
    },
    {
     "cell_type": "markdown",
     "metadata": {},
     "source": [
      "#### Erro da lineariza\u00e7\u00e3o"
     ]
    },
    {
     "cell_type": "code",
     "collapsed": false,
     "input": [
      "soma_wx2 = sum([w[i] * eixo_x[i]**2 for i in range(len(eixo_x))])\n",
      "soma_wx = sum( [w[i] * eixo_x[i] for i in range(len(eixo_x))])\n",
      "\n",
      "delta = sum(w)*soma_wx2 - soma_wx**2\n",
      "\n",
      "type(np)\n",
      "\n",
      "erro_a = sqrt(sum(w)/delta)\n",
      "erro_b = sqrt(soma_wx2/delta)\n",
      "\n",
      "\n",
      "\n",
      "print(\"a = \" + str(np.round(a,decimals=6)) \n",
      "      + \" +/- \" +  str(erro_a))\n",
      "\n",
      "print(\"b = \" + str(np.round(b,decimals=4))\n",
      "      + \" +/- \"  + str(erro_b) )"
     ],
     "language": "python",
     "metadata": {},
     "outputs": [
      {
       "output_type": "stream",
       "stream": "stdout",
       "text": [
        "a = -0.000232 +/- 7.26317286669725e-6\n",
        "b = 4.1255 +/- 0.00714694018976804\n"
       ]
      }
     ],
     "prompt_number": 17
    },
    {
     "cell_type": "markdown",
     "metadata": {},
     "source": [
      "## Plotagem"
     ]
    },
    {
     "cell_type": "code",
     "collapsed": false,
     "input": [
      "import matplotlib\n",
      "import matplotlib.pyplot as plt\n",
      "from pylab import *\n",
      "%matplotlib inline\n",
      "\n",
      "font = {'family' : 'Sans-Serif',        \n",
      "        'size'   : 18}\n",
      "\n",
      "matplotlib.rc('font', **font)\n",
      "\n",
      "line = [a*x + b for x in [-200,1800]]\n",
      "plt.plot(eixo_x, eixo_y, 'o', [-200,1800], line)\n",
      "plt.xlim([-200,1800])\n",
      "plt.errorbar(eixo_x, eixo_y, yerr=erros_y, fmt=\"none\" )\n",
      "plt.ylabel('$ \\ln \\Delta T \\; (C)$')\n",
      "plt.xlabel('$ Tempo \\; (s)$')\n",
      "\n",
      "\n",
      "\n",
      "\n",
      "plt.gcf().set_size_inches(14,9)\n",
      "plt.show()\n",
      "\n"
     ],
     "language": "python",
     "metadata": {},
     "outputs": [
      {
       "metadata": {},
       "output_type": "display_data",
       "png": "[encoded data removed]",
       "text": [
        "<matplotlib.figure.Figure at 0x7f94c8f86668>"
       ]
      }
     ],
     "prompt_number": 7
    },
    {
     "cell_type": "markdown",
     "metadata": {},
     "source": [
      "#Tabelas"
     ]
    },
    {
     "cell_type": "code",
     "collapsed": false,
     "input": [
      "from tabulate import tabulate\n",
      "print(tabulate(Medidas,tablefmt=\"latex\"))"
     ],
     "language": "python",
     "metadata": {},
     "outputs": [
      {
       "output_type": "stream",
       "stream": "stdout",
       "text": [
        "\\begin{tabular}{rllr}\n",
        "\\hline\n",
        " 89 & \\$ 62.5 pm  0.7 \\$ & \\$ 4.13516655674 pm 0.008 \\$                &    0 \\\\\n",
        " 78 & \\$ 51.5 pm  0.7 \\$ & \\$ 3.94158180767 pm 0.009708737864077669 \\$ &  700 \\\\\n",
        " 76 & \\$ 49.5 pm  0.7 \\$ & \\$ 3.90197266957 pm 0.010101010101010102 \\$ &  860 \\\\\n",
        " 71 & \\$ 44.5 pm  0.7 \\$ & \\$ 3.79548918917 pm 0.011235955056179775 \\$ & 1500 \\\\\n",
        " 70 & \\$ 43.5 pm  0.7 \\$ & \\$ 3.77276093809 pm 0.011494252873563218 \\$ & 1610 \\\\\n",
        "\\hline\n",
        "\\end{tabular}\n"
       ]
      }
     ],
     "prompt_number": 16
    },
    {
     "cell_type": "code",
     "collapsed": false,
     "input": [],
     "language": "python",
     "metadata": {},
     "outputs": []
    }
   ],
   "metadata": {}
  }
 ]
}