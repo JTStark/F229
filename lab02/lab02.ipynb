{
 "metadata": {
  "name": "",
  "signature": "sha256:f160cad4cf05511f1ffc50a530ec148f9de74d38bf1d36f24a337c9214be57e8"
 },
 "nbformat": 3,
 "nbformat_minor": 0,
 "worksheets": [
  {
   "cells": [
    {
     "cell_type": "markdown",
     "metadata": {},
     "source": [
      "## Valores e medidas "
     ]
    },
    {
     "cell_type": "code",
     "collapsed": false,
     "input": [
      "from sympy import *\n",
      "import numpy as np\n",
      "init_printing()\n",
      "\n",
      "## formulas de erro\n",
      "def erro_estatistico(list):\n",
      "    return np.std(list)/np.sqrt(len(list))\n",
      "\n",
      "def erro_total(list,erro_instrumental):\n",
      "    return np.sqrt(erro_estatistico(list)**2 + erro_instrumental**2)\n",
      "\n",
      "\n",
      "\n",
      "Dfio, I, Massa, a,r = symbols(\"D_{fio} I M a r\")\n",
      "E_Dfio, E_I, E_Massa, E_a, E_r = symbols(\"ED_{fio} E_I E_M E_a E_r\")\n",
      "\n",
      "T, L, E_T, E_L = symbols(\"T L E_T E_L\")\n",
      "\n",
      "Valor = {  Dfio:0.00056, E_Dfio:0.00001, # Metros\n",
      "           r : 0.00028, E_r : 0.000005,\n",
      "           I:I ,E_I:E_I , \n",
      "           Massa:1.1982, E_Massa: 0.0001, #kilos  \n",
      "           E_L: 0.001 # Metros\n",
      "           }\n",
      "\n",
      "Medidas_cruas = { \n",
      "    0.54:[5.7902,5.7958,5.7987,5.8002,5.7968,5.8066,5.7940], \n",
      "    0.503:[5.5987,5.6002,5.5993,5.5996,5.5959,5.5928,5.5928],\n",
      "    0.415:[5.1084,5.1099,5.1076,5.1058,5.1000,5.1072,5.1072],\n",
      "    0.360:[4.7782,4.7815,4.7706,4.7755,4.7722,4.7716,4.7689],\n",
      "    0.298:[4.3553,4.3612,4.3617,4.3604,4.3591,4.3578,4.3570],\n",
      "    0.234:[3.8980,3.8927,3.8898,3.8860,3.8833,3.8801,3.8766],\n",
      "    0.155:[3.2135,3.2136,3.2124,3.2184,3.2141,3.2164,3.2151],\n",
      "    0.142:[3.0867,3.0862,3.0898,3.0955,3.0933,3.0945,3.0242],\n",
      "    0.088: [2.5071,2.5077,2.5407,2.5142,2.5117,2.5040,2.4983],\n",
      "    0.056: [2.0772,2.0758,2.0705,2.0706,2.0874,2.0646,2.0736]\n",
      "}\n",
      "\n",
      "Medidas = []\n",
      "for medida in Medidas_cruas:\n",
      "    media = np.average(Medidas_cruas[medida])\n",
      "    erro = erro_total(Medidas_cruas[medida],0.0001)\n",
      "    Medidas.append({T:media, E_T: erro, L:medida, })\n"
     ],
     "language": "python",
     "metadata": {},
     "outputs": [],
     "prompt_number": 27
    },
    {
     "cell_type": "markdown",
     "metadata": {},
     "source": [
      "## Equa\u00e7\u00f5es\n",
      "$$ T = \\sqrt{\\frac{8\\pi I_0 L}{G r^4}} $$\n",
      "\n",
      "\n",
      "$$ T^2 = \\frac{8\\pi I_0 L}{G r^4} $$\n",
      "\n",
      "\n",
      "$$ T^2 = \\frac{8\\pi I_0}{G r^4} \\cdot L $$"
     ]
    },
    {
     "cell_type": "markdown",
     "metadata": {},
     "source": [
      "###Regress\u00e3o linear"
     ]
    },
    {
     "cell_type": "code",
     "collapsed": false,
     "input": [
      "eixo_x = [medida[L] for medida in Medidas]\n",
      "eixo_y = [medida[T]**2 for medida in Medidas]\n",
      "\n",
      "erros_y = [medida[E_T]*2*medida[T] for medida in Medidas] # propaga\u00e7\u00e3o de erro de T para T^2\n",
      "\n",
      "w = [1/erro**2 for erro in erros_y]\n",
      "\n",
      "Valor[a],b = np.polyfit(eixo_x,eixo_y,1, w = w)\n",
      "print(\"a = \" + str(Valor[a]))\n",
      "print(\"b = \" +  str(b))\n"
     ],
     "language": "python",
     "metadata": {},
     "outputs": [
      {
       "output_type": "stream",
       "stream": "stdout",
       "text": [
        "a = 60.5356237145\n",
        "b = 0.95103174758\n"
       ]
      }
     ],
     "prompt_number": 28
    },
    {
     "cell_type": "markdown",
     "metadata": {},
     "source": [
      "#### Erro da lineariza\u00e7\u00e3o"
     ]
    },
    {
     "cell_type": "code",
     "collapsed": false,
     "input": [
      "soma_wx2 = sum([w[i] * eixo_x[i]**2 for i in range(len(eixo_x))])\n",
      "soma_wx = sum( [w[i] * eixo_x[i] for i in range(len(eixo_x))])\n",
      "\n",
      "delta = sum(w)*soma_wx2 - soma_wx**2\n",
      "\n",
      "Valor[E_a] = np.sqrt(sum(w)/delta)\n",
      "erro_b = np.sqrt(soma_wx2/delta)\n",
      "\n",
      "\n",
      "\n",
      "print(\"a = \" + str(np.round(Valor[a],decimals=2)) \n",
      "      + \" +/- \" +  str(np.round(Valor[E_a],decimals=2)) )\n",
      "\n",
      "print(\"b = \" + str(np.round(b,decimals=3))\n",
      "      + \" +/- \"  + str(np.round(erro_b,decimals=3)) )"
     ],
     "language": "python",
     "metadata": {},
     "outputs": [
      {
       "output_type": "stream",
       "stream": "stdout",
       "text": [
        "a = 60.54 +/- 0.02\n",
        "b = 0.951 +/- 0.006\n"
       ]
      }
     ],
     "prompt_number": 29
    },
    {
     "cell_type": "markdown",
     "metadata": {},
     "source": [
      "## Plotagem"
     ]
    },
    {
     "cell_type": "code",
     "collapsed": false,
     "input": [
      "import matplotlib\n",
      "import matplotlib.pyplot as plt\n",
      "%matplotlib inline\n",
      "\n",
      "font = {'family' : 'Sans-Serif',        \n",
      "        'size'   : 18}\n",
      "\n",
      "matplotlib.rc('font', **font)\n",
      "\n",
      "line = [Valor[a]*x + b for x in eixo_x]\n",
      "\n",
      "plt.plot(eixo_x, eixo_y, 'o', eixo_x, line)\n",
      "plt.ylabel('$T^2$ $(s^2)$')\n",
      "plt.xlabel('$L$ $(m)$')\n",
      "\n",
      "\n",
      "plt.gcf().set_size_inches(14,9)\n",
      "plt.show()\n",
      "\n"
     ],
     "language": "python",
     "metadata": {},
     "outputs": [
      {
       "metadata": {},
       "output_type": "display_data",
       "png": "[encoded data removed]",
       "text": [
        "<matplotlib.figure.Figure at 0x7f517bcbdc50>"
       ]
      }
     ],
     "prompt_number": 30
    },
    {
     "cell_type": "markdown",
     "metadata": {},
     "source": [
      "##M\u00f3dulo de Cisalhamento\n",
      "\n",
      "$$ T^2 = \\frac{8\\pi I_0}{G r^4} \\cdot L $$\n",
      "\n",
      "O a da regress\u00e3o linear pode ser escrito como \n",
      "\n",
      "$$ a = \\frac{8\\pi I_0}{G r^4}  $$\n",
      "\n",
      "ent\u00e3o obtemos \n",
      "\n",
      "$$ G = \\frac{8\\pi I_0}{a r^4}  $$"
     ]
    },
    {
     "cell_type": "code",
     "collapsed": false,
     "input": [
      "def substitui(exp,vals):\n",
      "    for val in vals:\n",
      "        exp = exp.subs(val,vals[val])        \n",
      "    return exp\n",
      "\n",
      "        \n",
      "\n",
      "\n",
      "G = (8 * pi * I)/(a*(r)**4)\n",
      "\n",
      "Cisalhamento = substitui(G,Valor)\n",
      "\n",
      "E_G = sqrt((G.diff(a)*E_a)**2 + (G.diff(I)*E_I)**2 + (G.diff(r)*E_r)**2 )\n",
      "\n",
      "erro_Cisalhamento = substitui(E_G,Valor)\n",
      "\n",
      "\n",
      "\n",
      "\n"
     ],
     "language": "python",
     "metadata": {},
     "outputs": [],
     "prompt_number": 31
    },
    {
     "cell_type": "markdown",
     "metadata": {},
     "source": [
      "###$G$, em fun\u00e7\u00e3o de I, a e r"
     ]
    },
    {
     "cell_type": "code",
     "collapsed": false,
     "input": [
      "G\n"
     ],
     "language": "python",
     "metadata": {},
     "outputs": [
      {
       "latex": [
        "$$\\frac{8 \\pi I}{a r^{4}}$$"
       ],
       "metadata": {},
       "output_type": "pyout",
       "png": "[encoded data removed]",
       "prompt_number": 32,
       "text": [
        "8\u22c5\u03c0\u22c5I\n",
        "\u2500\u2500\u2500\u2500\u2500\n",
        "    4\n",
        " a\u22c5r "
       ]
      }
     ],
     "prompt_number": 32
    },
    {
     "cell_type": "code",
     "collapsed": false,
     "input": [
      "Cisalhamento"
     ],
     "language": "python",
     "metadata": {},
     "outputs": [
      {
       "latex": [
        "$$21500414874914.6 \\pi I$$"
       ],
       "metadata": {},
       "output_type": "pyout",
       "png": "[encoded data removed]",
       "prompt_number": 33,
       "text": [
        "21500414874914.6\u22c5\u03c0\u22c5I"
       ]
      }
     ],
     "prompt_number": 33
    },
    {
     "cell_type": "markdown",
     "metadata": {},
     "source": [
      "###$ \\Delta G $"
     ]
    },
    {
     "cell_type": "code",
     "collapsed": false,
     "input": [
      "E_G"
     ],
     "language": "python",
     "metadata": {},
     "outputs": [
      {
       "latex": [
        "$$\\sqrt{\\frac{64 \\pi^{2} E_{I}^{2}}{a^{2} r^{8}} + \\frac{64 \\pi^{2} E_{a}^{2} I^{2}}{a^{4} r^{8}} + \\frac{1024 \\pi^{2} E_{r}^{2} I^{2}}{a^{2} r^{10}}}$$"
       ],
       "metadata": {},
       "output_type": "pyout",
       "png": "[encoded data removed]",
       "prompt_number": 34,
       "text": [
        "      ____________________________________________\n",
        "     \u2571     2    2       2   2  2         2   2  2 \n",
        "    \u2571  64\u22c5\u03c0 \u22c5E_I    64\u22c5\u03c0 \u22c5E\u2090 \u22c5I    1024\u22c5\u03c0 \u22c5E\u1d63 \u22c5I  \n",
        "   \u2571   \u2500\u2500\u2500\u2500\u2500\u2500\u2500\u2500\u2500\u2500 + \u2500\u2500\u2500\u2500\u2500\u2500\u2500\u2500\u2500\u2500\u2500\u2500 + \u2500\u2500\u2500\u2500\u2500\u2500\u2500\u2500\u2500\u2500\u2500\u2500\u2500\u2500 \n",
        "  \u2571       2  8          4  8            2  10     \n",
        "\u2572\u2571       a \u22c5r          a \u22c5r            a \u22c5r       "
       ]
      }
     ],
     "prompt_number": 34
    },
    {
     "cell_type": "code",
     "collapsed": false,
     "input": [
      "erro_Cisalhamento"
     ],
     "language": "python",
     "metadata": {},
     "outputs": [
      {
       "latex": [
        "$$\\sqrt{4.62267839793449 \\cdot 10^{26} \\pi^{2} E_{I}^{2} + 2.35858382928807 \\cdot 10^{24} \\pi^{2} I^{2}}$$"
       ],
       "metadata": {},
       "output_type": "pyout",
       "png": "[encoded data removed]",
       "prompt_number": 35,
       "text": [
        "   ___________________________________________________________\n",
        "  \u2571                       2    2                         2  2 \n",
        "\u2572\u2571  4.62267839793449e+26\u22c5\u03c0 \u22c5E_I  + 2.35858382928807e+24\u22c5\u03c0 \u22c5I  "
       ]
      }
     ],
     "prompt_number": 35
    },
    {
     "cell_type": "code",
     "collapsed": false,
     "input": [
      "from sys import stdout\n",
      "for med in Medidas:\n",
      "    print('\\hline ')\n",
      "    stdout.write(str(med[L]) + ' & ')\n",
      "    stdout.write('$' + str(np.round(med[T],decimals=3)) + \" \\pm \" + str(np.round(med[E_T], decimals=3)) + \"$ & \" )\n",
      "    print('$' +str(np.round(med[T]**2,decimals=3)) + \" \\pm \" + str(np.round(med[E_T]*2*med[T], decimals=3)) + \" $ \\\\\\\\\")\n",
      "    \n",
      "    \n",
      "                     \n",
      "    "
     ],
     "language": "python",
     "metadata": {},
     "outputs": [
      {
       "output_type": "stream",
       "stream": "stdout",
       "text": [
        "\\hline \n",
        "0.54 & $5.797 \\pm 0.002$ & $33.611 \\pm 0.021 $ \\\\\n",
        "\\hline \n",
        "0.503 & $5.597 \\pm 0.001$ & $31.327 \\pm 0.013 $ \\\\\n",
        "\\hline \n",
        "0.415 & $5.107 \\pm 0.001$ & $26.077 \\pm 0.011 $ \\\\\n",
        "\\hline \n",
        "0.155 & $3.215 \\pm 0.001$ & $10.335 \\pm 0.005 $ \\\\\n",
        "\\hline \n",
        "0.298 & $4.359 \\pm 0.001$ & $19.0 \\pm 0.007 $ \\\\\n",
        "\\hline \n",
        "0.234 & $3.887 \\pm 0.003$ & $15.106 \\pm 0.02 $ \\\\\n",
        "\\hline \n",
        "0.088 & $2.512 \\pm 0.005$ & $6.31 \\pm 0.024 $ \\\\\n",
        "\\hline \n",
        "0.142 & $3.081 \\pm 0.009$ & $9.495 \\pm 0.055 $ \\\\\n",
        "\\hline \n",
        "0.056 & $2.074 \\pm 0.002$ & $4.302 \\pm 0.01 $ \\\\\n",
        "\\hline \n",
        "0.36 & $4.774 \\pm 0.002$ & $22.792 \\pm 0.015 $ \\\\\n"
       ]
      }
     ],
     "prompt_number": 36
    },
    {
     "cell_type": "code",
     "collapsed": false,
     "input": [],
     "language": "python",
     "metadata": {},
     "outputs": [],
     "prompt_number": 36
    }
   ],
   "metadata": {}
  }
 ]
}