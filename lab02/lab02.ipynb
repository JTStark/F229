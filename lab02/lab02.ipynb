{
 "metadata": {
  "name": "lab02",
  "signature": "sha256:7692e3f5acd33e5b8e31ad2d8e43b793ef8d4dc966433af74629ff98cb059291"
 },
 "nbformat": 3,
 "nbformat_minor": 0,
 "worksheets": [
  {
   "cells": [
    {
     "cell_type": "markdown",
     "metadata": {},
     "source": [
      "## Valores e medidas "
     ]
    },
    {
     "cell_type": "code",
     "collapsed": false,
     "input": [
      "from sympy import *\n",
      "import numpy as np\n",
      "init_printing()\n",
      "\n",
      "## formulas de erro\n",
      "def erro_estatistico(list):\n",
      "    return np.std(list)/np.sqrt(len(list))\n",
      "\n",
      "def erro_total(list,erro_instrumental):\n",
      "    return np.sqrt(erro_estatistico(list)**2 + erro_instrumental**2)\n",
      "\n",
      "\n",
      "\n",
      "Dfio, I, Massa, a = symbols(\"D_{fio} I M a\")\n",
      "E_Dfio, E_I, E_Massa, E_a = symbols(\"ED_{fio} E_I E_M E_a\")\n",
      "\n",
      "T, L, E_T, E_L = symbols(\"T L E_T E_L\")\n",
      "\n",
      "Valor = {  Dfio:0.00056, E_Dfio:0.00001, # Metros\n",
      "           I:I ,E_I:E_I , \n",
      "           Massa:1.1982, E_Massa: 0.0001, #kilos  \n",
      "           E_L: 0.001 # Metros\n",
      "           }\n",
      "\n",
      "Medidas_cruas = { \n",
      "    0.54:[5.7902,5.7958,5.7987,5.8002,5.7968,5.8066,5.7940], \n",
      "    0.503:[5.5987,5.6002,5.5993,5.5996,5.5959,5.5928,5.5928],\n",
      "    0.415:[5.1084,5.1099,5.1076,5.1058,5.1000,5.1072,5.1072],\n",
      "    0.360:[4.7782,4.7815,4.7706,4.7755,4.7722,4.7716,4.7689],\n",
      "    0.298:[4.3553,4.3612,4.3617,4.3604,4.3591,4.3578,4.3570],\n",
      "    0.234:[3.8980,3.8927,3.8898,3.8860,3.8833,3.8801,3.8766],\n",
      "    0.155:[3.2135,3.2136,3.2124,3.2184,3.2141,3.2164,3.2151],\n",
      "    0.142:[3.0867,3.0862,3.0898,3.0955,3.0933,3.0945,3.0242],\n",
      "    0.088: [2.5071,2.5077,2.5407,2.5142,2.5117,2.5040,2.4983],\n",
      "    0.056: [2.0772,2.0758,2.0705,2.0706,2.0874,2.0646,2.0736]\n",
      "}\n",
      "\n",
      "Medidas = []\n",
      "for medida in Medidas_cruas:\n",
      "    media = np.average(Medidas_cruas[medida])\n",
      "    erro = erro_total(Medidas_cruas[medida],0.0001)\n",
      "    Medidas.append({T:media, E_T: erro, L:medida, })\n"
     ],
     "language": "python",
     "metadata": {},
     "outputs": [],
     "prompt_number": 14
    },
    {
     "cell_type": "markdown",
     "metadata": {},
     "source": [
      "## Equa\u00e7\u00f5es\n",
      "$$ T = \\sqrt{\\frac{8\\pi I_0 L}{G r^2}} $$\n",
      "\n",
      "\n",
      "$$ T^2 = \\frac{8\\pi I_0 L}{G r^2} $$\n",
      "\n",
      "\n",
      "$$ T^2 = \\frac{8\\pi I_0}{G r^2} \\cdot L $$"
     ]
    },
    {
     "cell_type": "markdown",
     "metadata": {},
     "source": [
      "###Regress\u00e3o linear"
     ]
    },
    {
     "cell_type": "code",
     "collapsed": false,
     "input": [
      "eixo_x = [medida[L] for medida in Medidas]\n",
      "eixo_y = [medida[T]**2 for medida in Medidas]\n",
      "\n",
      "erros_y = [medida[E_T]*2*medida[T] for medida in Medidas] # propaga\u00e7\u00e3o de erro de T para T^2\n",
      "\n",
      "w = [1/erro**2 for erro in erros_y]\n",
      "\n",
      "Valor[a],b = np.polyfit(eixo_x,eixo_y,1, w = w)\n",
      "print(\"a = \" + str(Valor[a]))\n",
      "print(\"b = \" +  str(b))\n"
     ],
     "language": "python",
     "metadata": {},
     "outputs": [
      {
       "output_type": "stream",
       "stream": "stdout",
       "text": [
        "a = 60.5356237145\n",
        "b = 0.95103174758\n"
       ]
      }
     ],
     "prompt_number": 15
    },
    {
     "cell_type": "markdown",
     "metadata": {},
     "source": [
      "#### Erro da lineariza\u00e7\u00e3o"
     ]
    },
    {
     "cell_type": "code",
     "collapsed": false,
     "input": [
      "soma_wx2 = sum([w[i] * eixo_x[i]**2 for i in range(len(eixo_x))])\n",
      "soma_wx = sum( [w[i] * eixo_x[i] for i in range(len(eixo_x))])\n",
      "\n",
      "delta = sum(w)*soma_wx2 - soma_wx**2\n",
      "\n",
      "Valor[E_a] = np.sqrt(sum(w)/delta)\n",
      "erro_b = np.sqrt(soma_wx2/delta)\n",
      "\n",
      "\n",
      "\n",
      "print(\"a = \" + str(np.round(Valor[a],decimals=2)) \n",
      "      + \" +/- \" +  str(np.round(Valor[E_a],decimals=2)) )\n",
      "\n",
      "print(\"b = \" + str(np.round(b,decimals=3))\n",
      "      + \" +/- \"  + str(np.round(erro_b,decimals=3)) )"
     ],
     "language": "python",
     "metadata": {},
     "outputs": [
      {
       "output_type": "stream",
       "stream": "stdout",
       "text": [
        "a = 60.54 +/- 0.02\n",
        "b = 0.951 +/- 0.006\n"
       ]
      }
     ],
     "prompt_number": 16
    },
    {
     "cell_type": "markdown",
     "metadata": {},
     "source": [
      "## Plotagem"
     ]
    },
    {
     "cell_type": "code",
     "collapsed": false,
     "input": [
      "import matplotlib\n",
      "import matplotlib.pyplot as plt\n",
      "#%matplotlib inline\n",
      "\n",
      "font = {'family' : 'Sans-Serif',        \n",
      "        'size'   : 18}\n",
      "\n",
      "matplotlib.rc('font', **font)\n",
      "\n",
      "line = [Valor[a]*x + b for x in eixo_x]\n",
      "\n",
      "plt.plot(eixo_x, eixo_y, 'o', eixo_x, line)\n",
      "plt.ylabel('$T^2$ $(s^2)$')\n",
      "plt.xlabel('$L$ $(m)$')\n",
      "\n",
      "\n",
      "plt.gcf().set_size_inches(14,9)\n",
      "plt.show()\n",
      "\n"
     ],
     "language": "python",
     "metadata": {},
     "outputs": [
      {
       "output_type": "display_data",
       "png": "[encoded data removed]"
      }
     ],
     "prompt_number": 29
    },
    {
     "cell_type": "markdown",
     "metadata": {},
     "source": [
      "##M\u00f3dulo de Cisalhamento\n",
      "\n",
      "$$ T^2 = \\frac{8\\pi I_0}{G r^2} \\cdot L $$\n",
      "\n",
      "O a da regress\u00e3o linear pode ser escrito como \n",
      "\n",
      "$$ a = \\frac{8\\pi I_0}{G r^2}  $$\n",
      "\n",
      "ent\u00e3o obtemos \n",
      "\n",
      "$$ G = \\frac{8\\pi I_0}{a r^2}  $$"
     ]
    },
    {
     "cell_type": "code",
     "collapsed": false,
     "input": [
      "def substitui(exp,vals):\n",
      "    for val in vals:\n",
      "        exp = exp.subs(val,vals[val])        \n",
      "    return exp\n",
      "\n",
      "        \n",
      "        \n",
      "G = (8 * pi * I)/(a*(Dfio/2)**2)\n",
      "\n",
      "Cisalhamento = substitui(G,Valor)\n",
      "\n",
      "E_G = sqrt((G.diff(a)*E_a)**2 + (G.diff(I)*E_I)**2 + (G.diff(Dfio)*E_Dfio)**2 )\n",
      "\n",
      "erro_Cisalhamento = substitui(E_G,Valor)\n",
      "\n",
      "\n",
      "\n",
      "\n"
     ],
     "language": "python",
     "metadata": {},
     "outputs": [],
     "prompt_number": 18
    },
    {
     "cell_type": "markdown",
     "metadata": {},
     "source": [
      "###$G$, em fun\u00e7\u00e3o de I, a e D"
     ]
    },
    {
     "cell_type": "code",
     "collapsed": false,
     "input": [
      "G\n"
     ],
     "language": "python",
     "metadata": {},
     "outputs": [
      {
       "latex": [
        "$$\\frac{32 \\pi I}{D_{{fio}}^{2} a}$$"
       ],
       "output_type": "pyout",
       "png": "[encoded data removed]",
       "prompt_number": 19,
       "text": [
        "  32\u22c5\u03c0\u22c5I  \n",
        "\u2500\u2500\u2500\u2500\u2500\u2500\u2500\u2500\u2500\u2500\n",
        "       2  \n",
        "D_{fio} \u22c5a"
       ]
      }
     ],
     "prompt_number": 19
    },
    {
     "cell_type": "code",
     "collapsed": false,
     "input": [
      "Cisalhamento"
     ],
     "language": "python",
     "metadata": {},
     "outputs": [
      {
       "latex": [
        "$$1685632.5261933 \\pi I$$"
       ],
       "output_type": "pyout",
       "png": "[encoded data removed]",
       "prompt_number": 20,
       "text": [
        "1685632.5261933\u22c5\u03c0\u22c5I"
       ]
      }
     ],
     "prompt_number": 20
    },
    {
     "cell_type": "markdown",
     "metadata": {},
     "source": [
      "###$ \\Delta G $"
     ]
    },
    {
     "cell_type": "code",
     "collapsed": false,
     "input": [
      "E_G"
     ],
     "language": "python",
     "metadata": {},
     "outputs": [
      {
       "latex": [
        "$$\\sqrt{\\frac{1024 \\pi^{2} E_{I}^{2}}{D_{{fio}}^{4} a^{2}} + \\frac{1024 \\pi^{2} E_{a}^{2} I^{2}}{D_{{fio}}^{4} a^{4}} + \\frac{4096 \\pi^{2} ED_{{fio}}^{2} I^{2}}{D_{{fio}}^{6} a^{2}}}$$"
       ],
       "output_type": "pyout",
       "png": "[encoded data removed]",
       "prompt_number": 21,
       "text": [
        "      ______________________________________________________\n",
        "     \u2571       2    2         2   2  2         2         2  2 \n",
        "    \u2571  1024\u22c5\u03c0 \u22c5E_I    1024\u22c5\u03c0 \u22c5E\u2090 \u22c5I    4096\u22c5\u03c0 \u22c5ED_{fio} \u22c5I  \n",
        "   \u2571   \u2500\u2500\u2500\u2500\u2500\u2500\u2500\u2500\u2500\u2500\u2500\u2500 + \u2500\u2500\u2500\u2500\u2500\u2500\u2500\u2500\u2500\u2500\u2500\u2500\u2500\u2500 + \u2500\u2500\u2500\u2500\u2500\u2500\u2500\u2500\u2500\u2500\u2500\u2500\u2500\u2500\u2500\u2500\u2500\u2500\u2500\u2500 \n",
        "  \u2571           4  2            4  4                6  2      \n",
        "\u2572\u2571     D_{fio} \u22c5a      D_{fio} \u22c5a          D_{fio} \u22c5a       "
       ]
      }
     ],
     "prompt_number": 21
    },
    {
     "cell_type": "code",
     "collapsed": false,
     "input": [
      "erro_Cisalhamento"
     ],
     "language": "python",
     "metadata": {},
     "outputs": [
      {
       "latex": [
        "$$\\sqrt{2841357013360.82 \\pi^{2} E_{I}^{2} + 3624637429.80694 \\pi^{2} I^{2}}$$"
       ],
       "output_type": "pyout",
       "png": "[encoded data removed]",
       "prompt_number": 22,
       "text": [
        "   ___________________________________________________\n",
        "  \u2571                   2    2                     2  2 \n",
        "\u2572\u2571  2841357013360.82\u22c5\u03c0 \u22c5E_I  + 3624637429.80694\u22c5\u03c0 \u22c5I  "
       ]
      }
     ],
     "prompt_number": 22
    },
    {
     "cell_type": "code",
     "collapsed": false,
     "input": [
      "from sys import stdout\n",
      "for med in Medidas:\n",
      "    print('\\hline ')\n",
      "    stdout.write(str(med[L]) + ' & ')\n",
      "    stdout.write('$' + str(np.round(med[T],decimals=3)) + \" \\pm \" + str(np.round(med[E_T], decimals=3)) + \"$ & \" )\n",
      "    print('$' +str(np.round(med[T]**2,decimals=3)) + \" \\pm \" + str(np.round(med[E_T]*2*med[T], decimals=3)) + \" $ \\\\\\\\\")\n",
      "    \n",
      "    \n",
      "                     \n",
      "    "
     ],
     "language": "python",
     "metadata": {},
     "outputs": [
      {
       "output_type": "stream",
       "stream": "stdout",
       "text": [
        "\\hline \n",
        "0.54 & $5.797 \\pm 0.002$ & $33.611 \\pm 0.021 $ \\\\\n",
        "\\hline \n",
        "0.503 & $5.597 \\pm 0.001$ & $31.327 \\pm 0.013 $ \\\\\n",
        "\\hline \n",
        "0.415 & $5.107 \\pm 0.001$ & $26.077 \\pm 0.011 $ \\\\\n",
        "\\hline \n",
        "0.056 & $2.074 \\pm 0.002$ & $4.302 \\pm 0.01 $ \\\\\n",
        "\\hline \n",
        "0.155 & $3.215 \\pm 0.001$ & $10.335 \\pm 0.005 $ \\\\\n",
        "\\hline \n",
        "0.234 & $3.887 \\pm 0.003$ & $15.106 \\pm 0.02 $ \\\\\n",
        "\\hline \n",
        "0.088 & $2.512 \\pm 0.005$ & $6.31 \\pm 0.024 $ \\\\\n",
        "\\hline \n",
        "0.142 & $3.081 \\pm 0.009$ & $9.495 \\pm 0.055 $ \\\\\n",
        "\\hline \n",
        "0.36 & $4.774 \\pm 0.002$ & $22.792 \\pm 0.015 $ \\\\\n",
        "\\hline \n",
        "0.298 & $4.359 \\pm 0.001$ & $19.0 \\pm 0.007 $ \\\\\n"
       ]
      }
     ],
     "prompt_number": 24
    },
    {
     "cell_type": "code",
     "collapsed": false,
     "input": [],
     "language": "python",
     "metadata": {},
     "outputs": [],
     "prompt_number": 23
    }
   ],
   "metadata": {}
  }
 ]
}