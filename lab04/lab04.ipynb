{
 "metadata": {
  "name": "lab04",
  "signature": "sha256:ef828e373ada3260dab3e58ae2cc3d1f60908f5139214ab1e1fb6890cb970d3a"
 },
 "nbformat": 3,
 "nbformat_minor": 0,
 "worksheets": [
  {
   "cells": [
    {
     "cell_type": "markdown",
     "metadata": {},
     "source": [
      "## Valores e medidas "
     ]
    },
    {
     "cell_type": "code",
     "collapsed": false,
     "input": [
      "from sympy import *\n",
      "import numpy as np\n",
      "from scipy import stats\n",
      "init_printing()\n",
      "\n",
      "## formulas de erro\n",
      "def erro_estatistico(list):\n",
      "    return np.std(list)/np.sqrt(len(list))\n",
      "\n",
      "def erro_total(list,erro_instrumental):\n",
      "    return np.sqrt(erro_estatistico(list)**2 + erro_instrumental**2)\n",
      "\n",
      "def norma(*args):\n",
      "    return sum([arg**2 for arg in args])\n",
      "\n",
      "\n",
      "\n",
      "\n",
      "Discos = [9,9.1,3.7,3.9,2.0,9.4,1.9,2.1]\n",
      "M1,M2 = 891.6,895.7\n",
      "erro_balanca = 0.1\n",
      "erro_cronometro = 0.05\n",
      "Mtot = M1 + M2 + sum(Discos)\n",
      "\n",
      "Medidas_cruas = [ \n",
      "    {'M1':[1,2,3,4,5,6,7,8], 'M2':[] ,'tempos':[4.31,4.21,4.21]},\n",
      "    {'M1':[1,2,3,5,6,7,8], 'M2':[4] ,'tempos':[4.43,4.64,4.46]},\n",
      "    {'M1':[1,2,3,4,5], 'M2':[6,7,8] ,'tempos':[8.45,8.24,8.32]},\n",
      "    {'M1':[1,2,3,5,7,8], 'M2':[6,4] ,'tempos':[8.76,8.65,8.40]},\n",
      "    {'M1':[1,2,6], 'M2':[3,4,5,7,8] ,'tempos':[8.51,8.53,8.50]},\n",
      "    {'M1':[1,2,6,7], 'M2':[3,5,4,8] ,'tempos':[7.18,7.28,7.31]},\n",
      "]\n",
      "Medidas = []\n",
      "for med in Medidas_cruas:\n",
      "    massa_M1 = sum([Discos[i-1] for i in med['M1']]) + M1\n",
      "    massa_M2 = sum([Discos[i-1] for i in med['M2']]) + M2\n",
      "    \n",
      "    erro_M1 = np.sqrt(len(med['M1']) + 1) * erro_balanca\n",
      "    erro_M2 = np.sqrt(len(med['M2']) + 1) * erro_balanca\n",
      "    \n",
      "    tempo = np.average(med['tempos'])\n",
      "    erro_tempo = erro_total(med['tempos'],erro_cronometro)\n",
      "    \n",
      "    dm = massa_M1 - massa_M2\n",
      "    E_dm = norma(erro_M1,erro_M2)\n",
      "    Medidas.append({'dm':dm, 'E_dm':E_dm, 'T':tempo,'E_T':erro_tempo})\n",
      "\n",
      "\n",
      "\n",
      "\n"
     ],
     "language": "python",
     "metadata": {},
     "outputs": [],
     "prompt_number": 1
    },
    {
     "cell_type": "markdown",
     "metadata": {},
     "source": []
    },
    {
     "cell_type": "markdown",
     "metadata": {},
     "source": [
      "###Regress\u00e3o linear"
     ]
    },
    {
     "cell_type": "code",
     "collapsed": false,
     "input": [
      "eixo_x = [1/medida['T']**2 for medida in Medidas]\n",
      "eixo_y = [medida['dm'] for medida in Medidas]\n",
      "\n",
      "erros_y = [medida['E_dm'] for medida in Medidas] \n",
      "w = [1/erro**2 for erro in erros_y]\n",
      "\n",
      "a,b = np.polyfit(eixo_x,eixo_y,1,w=w)\n",
      "print(\"a = \" + str(a))\n",
      "print(\"b = \" +  str(b))\n"
     ],
     "language": "python",
     "metadata": {},
     "outputs": [
      {
       "output_type": "stream",
       "stream": "stdout",
       "text": [
        "a = 601.954702912\n",
        "b = 1.77400991459\n"
       ]
      }
     ],
     "prompt_number": 2
    },
    {
     "cell_type": "markdown",
     "metadata": {},
     "source": [
      "#### Erro da lineariza\u00e7\u00e3o"
     ]
    },
    {
     "cell_type": "code",
     "collapsed": false,
     "input": [
      "soma_wx2 = sum([w[i] * eixo_x[i]**2 for i in range(len(eixo_x))])\n",
      "soma_wx = sum( [w[i] * eixo_x[i] for i in range(len(eixo_x))])\n",
      "\n",
      "delta = sum(w)*soma_wx2 - soma_wx**2\n",
      "\n",
      "erro_a = np.sqrt(sum(w)/delta)\n",
      "erro_b = np.sqrt(soma_wx2/delta)\n",
      "\n",
      "\n",
      "\n",
      "print(\"a = \" + str(np.round(a,decimals=5)) \n",
      "      + \" +/- \" +  str(np.round(erro_a,decimals=5)) )\n",
      "\n",
      "print(\"b = \" + str(np.round(b,decimals=4))\n",
      "      + \" +/- \"  + str(np.round(erro_b,decimals=4)) )"
     ],
     "language": "python",
     "metadata": {},
     "outputs": [
      {
       "output_type": "stream",
       "stream": "stdout",
       "text": [
        "a = 601.9547 +/- 2.30437\n",
        "b = 1.774 +/- 0.0755\n"
       ]
      }
     ],
     "prompt_number": 3
    },
    {
     "cell_type": "markdown",
     "metadata": {},
     "source": [
      "## Plotagem"
     ]
    },
    {
     "cell_type": "code",
     "collapsed": false,
     "input": [
      "import matplotlib\n",
      "import matplotlib.pyplot as plt\n",
      "#%matplotlib inline\n",
      "\n",
      "font = {'family' : 'Sans-Serif',        \n",
      "        'size'   : 18}\n",
      "\n",
      "matplotlib.rc('font', **font)\n",
      "\n",
      "line = [a*x + b for x in [0.01,0.06]]\n",
      "plt.plot(eixo_x, eixo_y, 'o', [0.01,0.06], line)\n",
      "plt.errorbar(eixo_x, eixo_y, yerr=erros_y, fmt=None )\n",
      "plt.ylabel('$ \\Delta m \\; (g)$')\n",
      "plt.xlabel('$1/t^2 \\; (1/s^2)$')\n",
      "\n",
      "\n",
      "plt.gcf().set_size_inches(14,9)\n",
      "plt.show()\n",
      "\n"
     ],
     "language": "python",
     "metadata": {},
     "outputs": [
      {
       "output_type": "stream",
       "stream": "stderr",
       "text": [
        "ERROR: Line magic function `%matplotlib` not found."
       ]
      }
     ],
     "prompt_number": 7
    },
    {
     "cell_type": "code",
     "collapsed": false,
     "input": [
      "print(eixo_y)\n",
      "print(erros_y)"
     ],
     "language": "python",
     "metadata": {},
     "outputs": []
    },
    {
     "cell_type": "code",
     "collapsed": false,
     "input": [],
     "language": "python",
     "metadata": {},
     "outputs": []
    }
   ],
   "metadata": {}
  }
 ]
}