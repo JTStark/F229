{
 "metadata": {
  "name": "",
  "signature": "sha256:26591df1cdca49c00950c61ef4e00a497f3f3332c9244268b925b94338e450aa"
 },
 "nbformat": 3,
 "nbformat_minor": 0,
 "worksheets": [
  {
   "cells": [
    {
     "cell_type": "markdown",
     "metadata": {},
     "source": [
      "## Valores e medidas "
     ]
    },
    {
     "cell_type": "code",
     "collapsed": false,
     "input": [
      "from sympy import *\n",
      "import numpy as np\n",
      "from scipy import stats\n",
      "init_printing()\n",
      "\n",
      "## formulas de erro\n",
      "def erro_estatistico(list):\n",
      "    return np.std(list)/np.sqrt(len(list))\n",
      "\n",
      "def erro_total(list,erro_instrumental):\n",
      "    return norma(erro_estatistico(list), erro_instrumental)\n",
      "\n",
      "def norma(*args):\n",
      "    return sqrt(sum([arg**2 for arg in args]))\n",
      "\n",
      "\n",
      "Tagua, E_Tagua , E_Magua, Magua = symbols(\"\\Theta{_{agua}} \\Delta{\\Theta_{agua}} \\Delta{M_{agua}} M_{agua}\")\n",
      "Tfusao, E_Tfusao , E_Mgelo, Mgelo = symbols(\"\\Theta_{fusao} \\Delta{\\Theta_{fusao}} \\Delta{M_{gelo}} M_{gelo}\")\n",
      "Tequilibrio, E_Tequilibrio , E_C, C = symbols(\"\\Theta_{equilibrio} \\Delta{\\Theta_{equilibrio}} \\Delta{C_{cal}} C_{cal}\")\n",
      "\n",
      "\n",
      "\n",
      " \n",
      "\n",
      "\n",
      "latente = (Mgelo*(Tfusao-Tequilibrio) + Magua*(Tagua-Tequilibrio) + C*(Tagua-Tequilibrio))/Mgelo\n",
      "latente\n",
      "\n",
      "\n",
      "\n"
     ],
     "language": "python",
     "metadata": {},
     "outputs": [
      {
       "latex": [
        "$$\\frac{1}{M_{{gelo}}} \\left(C_{{cal}} \\left(- \\Theta_{{equilibrio}} + \\Theta{_{{agua}}}\\right) + M_{{agua}} \\left(- \\Theta_{{equilibrio}} + \\Theta{_{{agua}}}\\right) + M_{{gelo}} \\left(- \\Theta_{{equilibrio}} + \\Theta_{{fusao}}\\right)\\right)$$"
       ],
       "metadata": {},
       "output_type": "pyout",
       "png": "[encoded data removed]",
       "prompt_number": 2,
       "text": [
        "C_{cal}\u22c5(-\\Theta_{equilibrio} + \\Theta{_{agua}}) + M_{agua}\u22c5(-\\Theta_{equilibr\n",
        "\u2500\u2500\u2500\u2500\u2500\u2500\u2500\u2500\u2500\u2500\u2500\u2500\u2500\u2500\u2500\u2500\u2500\u2500\u2500\u2500\u2500\u2500\u2500\u2500\u2500\u2500\u2500\u2500\u2500\u2500\u2500\u2500\u2500\u2500\u2500\u2500\u2500\u2500\u2500\u2500\u2500\u2500\u2500\u2500\u2500\u2500\u2500\u2500\u2500\u2500\u2500\u2500\u2500\u2500\u2500\u2500\u2500\u2500\u2500\u2500\u2500\u2500\u2500\u2500\u2500\u2500\u2500\u2500\u2500\u2500\u2500\u2500\u2500\u2500\u2500\u2500\u2500\u2500\n",
        "                                                                        M_{gel\n",
        "\n",
        "io} + \\Theta{_{agua}}) + M_{gelo}\u22c5(-\\Theta_{equilibrio} + \\Theta_{fusao})\n",
        "\u2500\u2500\u2500\u2500\u2500\u2500\u2500\u2500\u2500\u2500\u2500\u2500\u2500\u2500\u2500\u2500\u2500\u2500\u2500\u2500\u2500\u2500\u2500\u2500\u2500\u2500\u2500\u2500\u2500\u2500\u2500\u2500\u2500\u2500\u2500\u2500\u2500\u2500\u2500\u2500\u2500\u2500\u2500\u2500\u2500\u2500\u2500\u2500\u2500\u2500\u2500\u2500\u2500\u2500\u2500\u2500\u2500\u2500\u2500\u2500\u2500\u2500\u2500\u2500\u2500\u2500\u2500\u2500\u2500\u2500\u2500\u2500\u2500\n",
        "o}                                                                       "
       ]
      }
     ],
     "prompt_number": 2
    },
    {
     "cell_type": "code",
     "collapsed": false,
     "input": [
      "latente_valor = latente.subs(C,40).subs(Magua,112.9).subs(Mgelo,29.8).subs(Tfusao,3).subs(Tagua,31).subs(Tequilibrio,16.5)\n",
      "latente_valor"
     ],
     "language": "python",
     "metadata": {},
     "outputs": [
      {
       "latex": [
        "$$60.8976510067114$$"
       ],
       "metadata": {},
       "output_type": "pyout",
       "png": "[encoded data removed]",
       "prompt_number": 3,
       "text": [
        "60.8976510067114"
       ]
      }
     ],
     "prompt_number": 3
    },
    {
     "cell_type": "code",
     "collapsed": false,
     "input": [
      "erro_latente = norma(latente.diff(C)* E_C ,latente.diff(Magua) * E_Magua, latente.diff(Tagua) * E_Tagua, latente.diff(Tfusao) * E_Tfusao, latente.diff(Mgelo) * E_Mgelo,latente.diff(Tequilibrio)*E_Tequilibrio)\n",
      "erro_latente.simplify()\n"
     ],
     "language": "python",
     "metadata": {},
     "outputs": [
      {
       "latex": [
        "$$\\sqrt{\\frac{1}{M_{{gelo}}^{4}} \\left(M_{{gelo}}^{4} \\Delta{\\Theta_{{fusao}}}^{2} + M_{{gelo}}^{2} \\left(\\Delta{C_{{cal}}}^{2} \\left(\\Theta_{{equilibrio}} - \\Theta{_{{agua}}}\\right)^{2} + \\Delta{M_{{agua}}}^{2} \\left(\\Theta_{{equilibrio}} - \\Theta{_{{agua}}}\\right)^{2} + \\Delta{\\Theta_{{agua}}}^{2} \\left(C_{{cal}} + M_{{agua}}\\right)^{2} + \\Delta{\\Theta_{{equilibrio}}}^{2} \\left(C_{{cal}} + M_{{agua}} + M_{{gelo}}\\right)^{2}\\right) + \\Delta{M_{{gelo}}}^{2} \\left(C_{{cal}} + M_{{agua}}\\right)^{2} \\left(\\Theta_{{equilibrio}} - \\Theta{_{{agua}}}\\right)^{2}\\right)}$$"
       ],
       "metadata": {},
       "output_type": "pyout",
       "png": "[encoded data removed]",
       "prompt_number": 4,
       "text": [
        "      ________________________________________________________________________\n",
        "     \u2571         4                       2           2 \u239b               2        \n",
        "    \u2571  M_{gelo} \u22c5\\Delta{\\Theta_{fusao}}  + M_{gelo} \u22c5\u239d\\Delta{C_{cal}} \u22c5(\\Theta\n",
        "   \u2571   \u2500\u2500\u2500\u2500\u2500\u2500\u2500\u2500\u2500\u2500\u2500\u2500\u2500\u2500\u2500\u2500\u2500\u2500\u2500\u2500\u2500\u2500\u2500\u2500\u2500\u2500\u2500\u2500\u2500\u2500\u2500\u2500\u2500\u2500\u2500\u2500\u2500\u2500\u2500\u2500\u2500\u2500\u2500\u2500\u2500\u2500\u2500\u2500\u2500\u2500\u2500\u2500\u2500\u2500\u2500\u2500\u2500\u2500\u2500\u2500\u2500\u2500\u2500\u2500\u2500\u2500\u2500\u2500\u2500\u2500\u2500\n",
        "  \u2571                                                                           \n",
        "\u2572\u2571                                                                            \n",
        "\n",
        "______________________________________________________________________________\n",
        "                                2                   2                         \n",
        "_{equilibrio} - \\Theta{_{agua}})  + \\Delta{M_{agua}} \u22c5(\\Theta_{equilibrio} - \\\n",
        "\u2500\u2500\u2500\u2500\u2500\u2500\u2500\u2500\u2500\u2500\u2500\u2500\u2500\u2500\u2500\u2500\u2500\u2500\u2500\u2500\u2500\u2500\u2500\u2500\u2500\u2500\u2500\u2500\u2500\u2500\u2500\u2500\u2500\u2500\u2500\u2500\u2500\u2500\u2500\u2500\u2500\u2500\u2500\u2500\u2500\u2500\u2500\u2500\u2500\u2500\u2500\u2500\u2500\u2500\u2500\u2500\u2500\u2500\u2500\u2500\u2500\u2500\u2500\u2500\u2500\u2500\u2500\u2500\u2500\u2500\u2500\u2500\u2500\u2500\u2500\u2500\u2500\u2500\n",
        "                                                                              \n",
        "                                                                              \n",
        "\n",
        "______________________________________________________________________________\n",
        "               2                        2                     2               \n",
        "Theta{_{agua}})  + \\Delta{\\Theta_{agua}} \u22c5(C_{cal} + M_{agua})  + \\Delta{\\Thet\n",
        "\u2500\u2500\u2500\u2500\u2500\u2500\u2500\u2500\u2500\u2500\u2500\u2500\u2500\u2500\u2500\u2500\u2500\u2500\u2500\u2500\u2500\u2500\u2500\u2500\u2500\u2500\u2500\u2500\u2500\u2500\u2500\u2500\u2500\u2500\u2500\u2500\u2500\u2500\u2500\u2500\u2500\u2500\u2500\u2500\u2500\u2500\u2500\u2500\u2500\u2500\u2500\u2500\u2500\u2500\u2500\u2500\u2500\u2500\u2500\u2500\u2500\u2500\u2500\u2500\u2500\u2500\u2500\u2500\u2500\u2500\u2500\u2500\u2500\u2500\u2500\u2500\u2500\u2500\n",
        "                                  4                                           \n",
        "                          M_{gelo}                                            \n",
        "\n",
        "______________________________________________________________________________\n",
        "               2                                2\u239e                   2        \n",
        "a_{equilibrio}} \u22c5(C_{cal} + M_{agua} + M_{gelo}) \u23a0 + \\Delta{M_{gelo}} \u22c5(C_{cal\n",
        "\u2500\u2500\u2500\u2500\u2500\u2500\u2500\u2500\u2500\u2500\u2500\u2500\u2500\u2500\u2500\u2500\u2500\u2500\u2500\u2500\u2500\u2500\u2500\u2500\u2500\u2500\u2500\u2500\u2500\u2500\u2500\u2500\u2500\u2500\u2500\u2500\u2500\u2500\u2500\u2500\u2500\u2500\u2500\u2500\u2500\u2500\u2500\u2500\u2500\u2500\u2500\u2500\u2500\u2500\u2500\u2500\u2500\u2500\u2500\u2500\u2500\u2500\u2500\u2500\u2500\u2500\u2500\u2500\u2500\u2500\u2500\u2500\u2500\u2500\u2500\u2500\u2500\u2500\n",
        "                                                                              \n",
        "                                                                              \n",
        "\n",
        "________________________________________________________\n",
        "             2                                        2 \n",
        "} + M_{agua}) \u22c5(\\Theta_{equilibrio} - \\Theta{_{agua}})  \n",
        "\u2500\u2500\u2500\u2500\u2500\u2500\u2500\u2500\u2500\u2500\u2500\u2500\u2500\u2500\u2500\u2500\u2500\u2500\u2500\u2500\u2500\u2500\u2500\u2500\u2500\u2500\u2500\u2500\u2500\u2500\u2500\u2500\u2500\u2500\u2500\u2500\u2500\u2500\u2500\u2500\u2500\u2500\u2500\u2500\u2500\u2500\u2500\u2500\u2500\u2500\u2500\u2500\u2500\u2500\u2500 \n",
        "                                                        \n",
        "                                                        "
       ]
      }
     ],
     "prompt_number": 4
    },
    {
     "cell_type": "code",
     "collapsed": false,
     "input": [
      "erro_valor = erro_latente.subs(C,40).subs(Magua,112.9).subs(Mgelo,29.8).subs(Tfusao,3).subs(Tagua,31).subs(Tequilibrio,16.5).subs(E_Tequilibrio,0.5).subs(E_Tagua,0.5).subs(E_Tfusao,0.5).subs(E_Mgelo,0.1).subs(E_Magua,0.1).subs(E_C,32)\n",
      "erro_valor"
     ],
     "language": "python",
     "metadata": {},
     "outputs": [
      {
       "latex": [
        "$$16.085166712753$$"
       ],
       "metadata": {},
       "output_type": "pyout",
       "png": "[encoded data removed]",
       "prompt_number": 5,
       "text": [
        "16.0851667127530"
       ]
      }
     ],
     "prompt_number": 5
    },
    {
     "cell_type": "code",
     "collapsed": false,
     "input": [],
     "language": "python",
     "metadata": {},
     "outputs": []
    }
   ],
   "metadata": {}
  }
 ]
}