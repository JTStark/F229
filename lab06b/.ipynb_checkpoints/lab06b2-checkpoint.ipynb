{
 "metadata": {
  "name": "",
  "signature": "sha256:293a29d242db6eda0c5aaa50fb28cc4a5fab0a63340bd57a1bd13da55b286d61"
 },
 "nbformat": 3,
 "nbformat_minor": 0,
 "worksheets": [
  {
   "cells": [
    {
     "cell_type": "markdown",
     "metadata": {},
     "source": [
      "## Valores e medidas "
     ]
    },
    {
     "cell_type": "code",
     "collapsed": false,
     "input": [
      "from sympy import *\n",
      "import numpy as np\n",
      "from scipy import stats\n",
      "init_printing()\n",
      "\n",
      "## formulas de erro\n",
      "def erro_estatistico(list):\n",
      "    return np.std(list)/np.sqrt(len(list))\n",
      "\n",
      "def erro_total(list,erro_instrumental):\n",
      "    return norma(erro_estatistico(list), erro_instrumental)\n",
      "\n",
      "def norma(*args):\n",
      "    return sqrt(sum([arg**2 for arg in args]))\n",
      "\n",
      "\n",
      "Tagua, E_Tagua , E_Mh20, Mh20 = symbols(\"\\Theta{_{agua}} \\Delta{\\Theta_{agua}} \\Delta{M_{agua}} M_{agua}\")\n",
      "Tfusao, E_Tfusao , E_Mgelo, Mgelo = symbols(\"\\Theta_{fusao} \\Delta{\\Theta_{fusao}} \\Delta{M_{metal}} M_{metal}\")\n",
      "Tequilibrio, E_Tequilibrio , E_C, C = symbols(\"\\Theta_{equilibrio} \\Delta{\\Theta_{equilibrio}} \\Delta{C_{cal}} C_{cal}\")\n",
      "\n",
      "\n",
      "\n",
      " \n",
      "\n",
      "\n",
      "latente = (Mgelo())\n",
      "c_parcial = c.subs(C,40).subs(Mh20,185.7)\n",
      "\n",
      "\n"
     ],
     "language": "python",
     "metadata": {},
     "outputs": [],
     "prompt_number": 8
    },
    {
     "cell_type": "code",
     "collapsed": false,
     "input": [
      "c_chumbo = c_parcial.subs(Tquente,75).subs(Tfrio,22).subs(Mmetal,102).subs(Tfinal,23)\n",
      "c_chumbo"
     ],
     "language": "python",
     "metadata": {},
     "outputs": [
      {
       "latex": [
        "$$0.042552790346908$$"
       ],
       "metadata": {},
       "output_type": "pyout",
       "png": "[encoded data removed]",
       "prompt_number": 10,
       "text": [
        "0.0425527903469080"
       ]
      }
     ],
     "prompt_number": 10
    },
    {
     "cell_type": "code",
     "collapsed": false,
     "input": [
      "c_aluminio = c_parcial.subs(Tquente,72.5).subs(Tfrio,24).subs(Mmetal,42.3).subs(Tfinal,26)\n",
      "c_aluminio"
     ],
     "language": "python",
     "metadata": {},
     "outputs": [
      {
       "latex": [
        "$$0.229492361269987$$"
       ],
       "metadata": {},
       "output_type": "pyout",
       "png": "[encoded data removed]",
       "prompt_number": 11,
       "text": [
        "0.229492361269987"
       ]
      }
     ],
     "prompt_number": 11
    },
    {
     "cell_type": "code",
     "collapsed": false,
     "input": [
      "c_cobre = c_parcial.subs(Tquente,67).subs(Tfrio,26.5).subs(Mmetal,91.6).subs(Tfinal,27.5)\n",
      "c_cobre"
     ],
     "language": "python",
     "metadata": {},
     "outputs": [
      {
       "latex": [
        "$$0.0623790835221936$$"
       ],
       "metadata": {},
       "output_type": "pyout",
       "png": "[encoded data removed]",
       "prompt_number": 13,
       "text": [
        "0.0623790835221936"
       ]
      }
     ],
     "prompt_number": 13
    },
    {
     "cell_type": "code",
     "collapsed": false,
     "input": [
      "erro_c = norma(c.diff(C)* E_C ,c.diff(Mh20) * E_Mh20, c.diff(Tquente) * E_Tquente, c.diff(Tfrio) * E_Tfrio, c.diff(Mmetal) * E_Mmetal,c.diff(Tfinal)*E_Tfinal)\n",
      "erro_c.simplify()\n"
     ],
     "language": "python",
     "metadata": {},
     "outputs": [
      {
       "latex": [
        "$$\\sqrt{\\frac{1}{M_{{metal}}^{4} \\left(\\Theta_{{final}} - \\Theta_{{quente}}\\right)^{4}} \\left(M_{{metal}}^{2} \\Delta{\\Theta_{{final}}}^{2} \\left(C_{{cal}} + M_{{H 20}}\\right)^{2} \\left(- \\Theta_{{quente}} + \\Theta{_{{frio}}}\\right)^{2} + M_{{metal}}^{2} \\Delta{\\Theta_{{quente}}}^{2} \\left(C_{{cal}} + M_{{H 20}}\\right)^{2} \\left(\\Theta_{{final}} - \\Theta{_{{frio}}}\\right)^{2} + M_{{metal}}^{2} \\left(\\Theta_{{final}} - \\Theta_{{quente}}\\right)^{2} \\left(\\Delta{C_{{cal}}}^{2} \\left(\\Theta_{{final}} - \\Theta{_{{frio}}}\\right)^{2} + \\Delta{M_{{H 20}}}^{2} \\left(\\Theta_{{final}} - \\Theta{_{{frio}}}\\right)^{2} + \\Delta{\\Theta_{{frio}}}^{2} \\left(C_{{cal}} + M_{{H 20}}\\right)^{2}\\right) + \\Delta{M_{{metal}}}^{2} \\left(C_{{cal}} + M_{{H 20}}\\right)^{2} \\left(\\Theta_{{final}} - \\Theta_{{quente}}\\right)^{2} \\left(\\Theta_{{final}} - \\Theta{_{{frio}}}\\right)^{2}\\right)}$$"
       ],
       "metadata": {},
       "output_type": "pyout",
       "png": "[encoded data removed]",
       "prompt_number": 18,
       "text": [
        "      ________________________________________________________________________\n",
        "     \u2571          2                       2                     2               \n",
        "    \u2571  M_{metal} \u22c5\\Delta{\\Theta_{final}} \u22c5(C_{cal} + M_{H_20}) \u22c5(-\\Theta_{quen\n",
        "   \u2571   \u2500\u2500\u2500\u2500\u2500\u2500\u2500\u2500\u2500\u2500\u2500\u2500\u2500\u2500\u2500\u2500\u2500\u2500\u2500\u2500\u2500\u2500\u2500\u2500\u2500\u2500\u2500\u2500\u2500\u2500\u2500\u2500\u2500\u2500\u2500\u2500\u2500\u2500\u2500\u2500\u2500\u2500\u2500\u2500\u2500\u2500\u2500\u2500\u2500\u2500\u2500\u2500\u2500\u2500\u2500\u2500\u2500\u2500\u2500\u2500\u2500\u2500\u2500\u2500\u2500\u2500\u2500\u2500\u2500\u2500\u2500\n",
        "  \u2571                                                                           \n",
        "\u2572\u2571                                                                            \n",
        "\n",
        "______________________________________________________________________________\n",
        "                      2            2                        2                 \n",
        "te} + \\Theta{_{frio}})  + M_{metal} \u22c5\\Delta{\\Theta_{quente}} \u22c5(C_{cal} + M_{H_\n",
        "\u2500\u2500\u2500\u2500\u2500\u2500\u2500\u2500\u2500\u2500\u2500\u2500\u2500\u2500\u2500\u2500\u2500\u2500\u2500\u2500\u2500\u2500\u2500\u2500\u2500\u2500\u2500\u2500\u2500\u2500\u2500\u2500\u2500\u2500\u2500\u2500\u2500\u2500\u2500\u2500\u2500\u2500\u2500\u2500\u2500\u2500\u2500\u2500\u2500\u2500\u2500\u2500\u2500\u2500\u2500\u2500\u2500\u2500\u2500\u2500\u2500\u2500\u2500\u2500\u2500\u2500\u2500\u2500\u2500\u2500\u2500\u2500\u2500\u2500\u2500\u2500\u2500\u2500\n",
        "                                                                              \n",
        "                                                                              \n",
        "\n",
        "______________________________________________________________________________\n",
        "    2                                   2            2                        \n",
        "20}) \u22c5(\\Theta_{final} - \\Theta{_{frio}})  + M_{metal} \u22c5(\\Theta_{final} - \\Thet\n",
        "\u2500\u2500\u2500\u2500\u2500\u2500\u2500\u2500\u2500\u2500\u2500\u2500\u2500\u2500\u2500\u2500\u2500\u2500\u2500\u2500\u2500\u2500\u2500\u2500\u2500\u2500\u2500\u2500\u2500\u2500\u2500\u2500\u2500\u2500\u2500\u2500\u2500\u2500\u2500\u2500\u2500\u2500\u2500\u2500\u2500\u2500\u2500\u2500\u2500\u2500\u2500\u2500\u2500\u2500\u2500\u2500\u2500\u2500\u2500\u2500\u2500\u2500\u2500\u2500\u2500\u2500\u2500\u2500\u2500\u2500\u2500\u2500\u2500\u2500\u2500\u2500\u2500\u2500\n",
        "                                                                              \n",
        "                                                                              \n",
        "\n",
        "______________________________________________________________________________\n",
        "           2 \u239b               2                                   2            \n",
        "a_{quente}) \u22c5\u239d\\Delta{C_{cal}} \u22c5(\\Theta_{final} - \\Theta{_{frio}})  + \\Delta{M_\n",
        "\u2500\u2500\u2500\u2500\u2500\u2500\u2500\u2500\u2500\u2500\u2500\u2500\u2500\u2500\u2500\u2500\u2500\u2500\u2500\u2500\u2500\u2500\u2500\u2500\u2500\u2500\u2500\u2500\u2500\u2500\u2500\u2500\u2500\u2500\u2500\u2500\u2500\u2500\u2500\u2500\u2500\u2500\u2500\u2500\u2500\u2500\u2500\u2500\u2500\u2500\u2500\u2500\u2500\u2500\u2500\u2500\u2500\u2500\u2500\u2500\u2500\u2500\u2500\u2500\u2500\u2500\u2500\u2500\u2500\u2500\u2500\u2500\u2500\u2500\u2500\u2500\u2500\u2500\n",
        "               4                                   4                          \n",
        "      M_{metal} \u22c5(\\Theta_{final} - \\Theta_{quente})                           \n",
        "\n",
        "______________________________________________________________________________\n",
        "       2                                   2                        2         \n",
        "{H_20}} \u22c5(\\Theta_{final} - \\Theta{_{frio}})  + \\Delta{\\Theta_{frio}} \u22c5(C_{cal}\n",
        "\u2500\u2500\u2500\u2500\u2500\u2500\u2500\u2500\u2500\u2500\u2500\u2500\u2500\u2500\u2500\u2500\u2500\u2500\u2500\u2500\u2500\u2500\u2500\u2500\u2500\u2500\u2500\u2500\u2500\u2500\u2500\u2500\u2500\u2500\u2500\u2500\u2500\u2500\u2500\u2500\u2500\u2500\u2500\u2500\u2500\u2500\u2500\u2500\u2500\u2500\u2500\u2500\u2500\u2500\u2500\u2500\u2500\u2500\u2500\u2500\u2500\u2500\u2500\u2500\u2500\u2500\u2500\u2500\u2500\u2500\u2500\u2500\u2500\u2500\u2500\u2500\u2500\u2500\n",
        "                                                                              \n",
        "                                                                              \n",
        "\n",
        "______________________________________________________________________________\n",
        "            2\u239e                    2                     2                     \n",
        " + M_{H_20}) \u23a0 + \\Delta{M_{metal}} \u22c5(C_{cal} + M_{H_20}) \u22c5(\\Theta_{final} - \\T\n",
        "\u2500\u2500\u2500\u2500\u2500\u2500\u2500\u2500\u2500\u2500\u2500\u2500\u2500\u2500\u2500\u2500\u2500\u2500\u2500\u2500\u2500\u2500\u2500\u2500\u2500\u2500\u2500\u2500\u2500\u2500\u2500\u2500\u2500\u2500\u2500\u2500\u2500\u2500\u2500\u2500\u2500\u2500\u2500\u2500\u2500\u2500\u2500\u2500\u2500\u2500\u2500\u2500\u2500\u2500\u2500\u2500\u2500\u2500\u2500\u2500\u2500\u2500\u2500\u2500\u2500\u2500\u2500\u2500\u2500\u2500\u2500\u2500\u2500\u2500\u2500\u2500\u2500\u2500\n",
        "                                                                              \n",
        "                                                                              \n",
        "\n",
        "____________________________________________________\n",
        "              2                                   2 \n",
        "heta_{quente}) \u22c5(\\Theta_{final} - \\Theta{_{frio}})  \n",
        "\u2500\u2500\u2500\u2500\u2500\u2500\u2500\u2500\u2500\u2500\u2500\u2500\u2500\u2500\u2500\u2500\u2500\u2500\u2500\u2500\u2500\u2500\u2500\u2500\u2500\u2500\u2500\u2500\u2500\u2500\u2500\u2500\u2500\u2500\u2500\u2500\u2500\u2500\u2500\u2500\u2500\u2500\u2500\u2500\u2500\u2500\u2500\u2500\u2500\u2500\u2500 \n",
        "                                                    \n",
        "                                                    "
       ]
      }
     ],
     "prompt_number": 18
    },
    {
     "cell_type": "code",
     "collapsed": false,
     "input": [
      "erro_parcial = erro_c.subs(C,40).subs(E_C,32).subs(Mh20,185.7).subs(E_Mh20,0.1).subs(E_Tquente,0.5).subs(E_Tfrio,0.5).subs(E_Tfinal,0.5).subs(E_Mmetal,0.1)"
     ],
     "language": "python",
     "metadata": {},
     "outputs": [],
     "prompt_number": 22
    },
    {
     "cell_type": "code",
     "collapsed": false,
     "input": [
      "erro_chumbo = erro_parcial.subs(Tquente,75).subs(Tfrio,22).subs(Mmetal,102).subs(Tfinal,23)\n",
      "erro_chumbo"
     ],
     "language": "python",
     "metadata": {},
     "outputs": [
      {
       "latex": [
        "$$0.0309760739532629$$"
       ],
       "metadata": {},
       "output_type": "pyout",
       "png": "[encoded data removed]",
       "prompt_number": 23,
       "text": [
        "0.0309760739532629"
       ]
      }
     ],
     "prompt_number": 23
    },
    {
     "cell_type": "code",
     "collapsed": false,
     "input": [
      "erro_aluminio = erro_parcial.subs(Tquente,72.5).subs(Tfrio,24).subs(Mmetal,42.3).subs(Tfinal,26)\n",
      "erro_aluminio"
     ],
     "language": "python",
     "metadata": {},
     "outputs": [
      {
       "latex": [
        "$$0.0890936690035355$$"
       ],
       "metadata": {},
       "output_type": "pyout",
       "png": "[encoded data removed]",
       "prompt_number": 25,
       "text": [
        "0.0890936690035355"
       ]
      }
     ],
     "prompt_number": 25
    },
    {
     "cell_type": "code",
     "collapsed": false,
     "input": [
      "erro_cobre = erro_parcial.subs(Tquente,67).subs(Tfrio,26.5).subs(Mmetal,91.6).subs(Tfinal,27.5)\n",
      "erro_cobre"
     ],
     "language": "python",
     "metadata": {},
     "outputs": [
      {
       "latex": [
        "$$0.0455445048329337$$"
       ],
       "metadata": {},
       "output_type": "pyout",
       "png": "[encoded data removed]",
       "prompt_number": 26,
       "text": [
        "0.0455445048329337"
       ]
      }
     ],
     "prompt_number": 26
    },
    {
     "cell_type": "code",
     "collapsed": false,
     "input": [],
     "language": "python",
     "metadata": {},
     "outputs": []
    }
   ],
   "metadata": {}
  }
 ]
}