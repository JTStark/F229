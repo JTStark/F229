{
 "metadata": {
  "name": "",
  "signature": "sha256:6e2b0209632ddba31f66db678a3f97ae92c03c4947f739ab956b066db0ed366b"
 },
 "nbformat": 3,
 "nbformat_minor": 0,
 "worksheets": [
  {
   "cells": [
    {
     "cell_type": "markdown",
     "metadata": {},
     "source": [
      "## Valores e medidas "
     ]
    },
    {
     "cell_type": "code",
     "collapsed": false,
     "input": [
      "from sympy import *\n",
      "import numpy as np\n",
      "from scipy import stats\n",
      "init_printing()\n",
      "\n",
      "## formulas de erro\n",
      "def erro_estatistico(list):\n",
      "    return np.std(list)/np.sqrt(len(list))\n",
      "\n",
      "def erro_total(list,erro_instrumental):\n",
      "    return norma(erro_estatistico(list), erro_instrumental)\n",
      "\n",
      "def norma(*args):\n",
      "    return sqrt(sum([arg**2 for arg in args]))\n",
      "\n",
      "\n",
      "\n",
      "\n",
      "\n",
      "erro_cronometro = 0.3\n",
      "T, E_T , E_U, U = symbols(\"t \\Delta{t} \\Delta{U} U\")\n",
      "\n",
      "\n",
      " \n",
      "\n",
      "\n",
      "\n",
      "\n",
      "\n"
     ],
     "language": "python",
     "metadata": {},
     "outputs": [],
     "prompt_number": 12
    }
   ],
   "metadata": {}
  }
 ]
}