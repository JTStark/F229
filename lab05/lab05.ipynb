{
 "metadata": {
  "name": "",
  "signature": "sha256:63e28315b7be3b64996ecf2c99077551398b4ae947e38d667a73d8074260ac6b"
 },
 "nbformat": 3,
 "nbformat_minor": 0,
 "worksheets": [
  {
   "cells": [
    {
     "cell_type": "markdown",
     "metadata": {},
     "source": [
      "## Valores e medidas "
     ]
    },
    {
     "cell_type": "code",
     "collapsed": false,
     "input": [
      "from sympy import *\n",
      "import numpy as np\n",
      "from scipy import stats\n",
      "init_printing()\n",
      "\n",
      "## formulas de erro\n",
      "def erro_estatistico(list):\n",
      "    return np.std(list)/np.sqrt(len(list))\n",
      "\n",
      "def erro_total(list,erro_instrumental):\n",
      "    return norma(erro_estatistico(list), erro_instrumental)\n",
      "\n",
      "def norma(*args):\n",
      "    return sqrt(sum([arg**2 for arg in args]))\n",
      "\n",
      "\n",
      "\n",
      "\n",
      "\n",
      "erro_cronometro = 0.3\n",
      "T, E_T , E_D, D = symbols(\"t \\Delta{t} \\Delta{d} d\")\n",
      "Rc, E_Rc, L, E_L, H, E_H = symbols(\"r_c \\Delta{r_c} L \\Delta{L} H \\Delta{H}\")\n",
      "V, E_V , E_R, R = symbols(\"V_l \\Delta{V_l} \\Delta{r} r\")\n",
      "K, E_K  = symbols(\"K \\Delta{K}\")\n",
      "\n",
      "\n",
      "valor = {}\n",
      "valor[Rc] , valor[E_Rc]  = 0.03 , 0.000025\n",
      "valor[L], valor[E_L] = 0.2 , 0.0005\n",
      "valor[H], valor[E_H] = 0.925 , 0.0005\n",
      "\n",
      "fator = (1 + 2.4*R/(pi*Rc**2) ) * (1 + 3.3*R/H)\n",
      "\n",
      "\n",
      "Medidas_cruas = [ \n",
      "    {T:[12.47,12.22,11.87,11.97,11.94], D:0.0020, E_D:0.0001},\n",
      "    {T:[7.65,7.87,7.59,7.60,7.78], D:0.0025, E_D:0.0001},\n",
      "    {T:[5.46,5.29,5.35,5.69,5.32], D:0.0030, E_D:0.0001},\n",
      "    {T:[4.07,4.15,4.09,4.09,4.13], D:0.0035, E_D:0.0001},\n",
      "    {T:[3.12,3.25,3.28,3.28,3.25], D:0.0040, E_D:0.0001},\n",
      "\n",
      "   ]\n",
      "\n",
      "\n",
      "\n",
      "\n",
      "\n",
      "Medidas = []\n",
      "for med in Medidas_cruas: \n",
      "    tempo = np.average(med[T])\n",
      "    erro_tempo = erro_total(med[T],erro_cronometro)\n",
      "    raio , erro_raio = med[D]/2, med[E_D]/2 \n",
      "    \n",
      "    valor[K] = fator.subs(R,raio).subs(Rc,valor[Rc]).subs(H,valor[H]).evalf()\n",
      "    erro_K = norma(fator.diff(R) * E_R, fator.diff(Rc) * E_Rc, fator.diff(H) * E_H)\n",
      "    \n",
      "    valor[E_K] = erro_K.subs(R,raio).subs(Rc,valor[Rc]).subs(H,valor[H]) \\\n",
      "                        .subs(E_H,valor[E_H]).subs(E_Rc,valor[E_Rc]).subs(E_R,erro_raio).evalf()\n",
      "    \n",
      "    velocidade = K * L/T\n",
      "    erro_vel = norma(velocidade.diff(K) * E_K, velocidade.diff(T) * E_T, velocidade.diff(L) * E_L)\n",
      "    \n",
      "    velocidade = velocidade.subs(K,valor[K]).subs(L,valor[L]).subs(T,tempo)\n",
      "    \n",
      "    erro_vel = erro_vel.subs(K,valor[K]).subs(L,valor[L]).subs(T,tempo).subs(E_K,valor[E_K]) \\\n",
      "                       .subs(E_T,erro_tempo).subs(E_L,valor[E_L])\n",
      "    \n",
      "    \n",
      "    Medidas.append({R:raio, E_R:erro_raio, V:velocidade, E_V:erro_vel })\n",
      "    print(tempo)\n",
      "    print(erro_tempo)\n",
      "    \n",
      "    \n",
      "    \n",
      "    \n",
      "\n",
      "\n",
      "\n",
      "\n",
      "\n"
     ],
     "language": "python",
     "metadata": {},
     "outputs": [
      {
       "output_type": "stream",
       "stream": "stdout",
       "text": [
        "12.094\n",
        "0.316007594845440\n",
        "7.698\n",
        "0.303965787548533\n",
        "5.422\n",
        "0.307003583040980\n",
        "4.106\n",
        "0.300287861892551\n",
        "3.236\n",
        "0.301179016533357\n"
       ]
      }
     ],
     "prompt_number": 31
    },
    {
     "cell_type": "markdown",
     "metadata": {},
     "source": [
      "###Regress\u00e3o linear"
     ]
    },
    {
     "cell_type": "code",
     "collapsed": false,
     "input": [
      "eixo_x = [medida[R]**2 for medida in Medidas]\n",
      "eixo_y = [medida[V] for medida in Medidas]\n",
      "\n",
      "erros_y = [medida[E_V] for medida in Medidas] \n",
      "w = [1/erro**2 for erro in erros_y]\n",
      "\n",
      "a,b = np.polyfit(eixo_x,eixo_y,1,w=w)\n",
      "print(\"a = \" + str(a))\n",
      "print(\"b = \" +  str(b))\n",
      "\n",
      "\n"
     ],
     "language": "python",
     "metadata": {},
     "outputs": [
      {
       "output_type": "stream",
       "stream": "stdout",
       "text": [
        "a = 41634.6290751\n",
        "b = -0.0109590561023\n"
       ]
      },
      {
       "latex": [
        "$$\\begin{bmatrix}1e-06, & 1.5625e-06, & 2.25e-06, & 3.0625000000000003e-06, & 4e-06\\end{bmatrix}$$"
       ],
       "metadata": {},
       "output_type": "pyout",
       "png": "[encoded data removed]",
       "prompt_number": 27,
       "text": [
        "[1e-06, 1.5625e-06, 2.25e-06, 3.0625000000000003e-06, 4e-06]"
       ]
      }
     ],
     "prompt_number": 27
    },
    {
     "cell_type": "markdown",
     "metadata": {},
     "source": [
      "#### Erro da lineariza\u00e7\u00e3o"
     ]
    },
    {
     "cell_type": "code",
     "collapsed": false,
     "input": [
      "soma_wx2 = sum([w[i] * eixo_x[i]**2 for i in range(len(eixo_x))])\n",
      "soma_wx = sum( [w[i] * eixo_x[i] for i in range(len(eixo_x))])\n",
      "\n",
      "delta = sum(w)*soma_wx2 - soma_wx**2\n",
      "\n",
      "type(np)\n",
      "\n",
      "erro_a = sqrt(sum(w)/delta)\n",
      "erro_b = sqrt(soma_wx2/delta)\n",
      "\n",
      "\n",
      "\n",
      "print(\"a = \" + str(np.round(a,decimals=5)) \n",
      "      + \" +/- \" +  str(erro_a))\n",
      "\n",
      "print(\"b = \" + str(np.round(b,decimals=4))\n",
      "      + \" +/- \"  + str(erro_b) )"
     ],
     "language": "python",
     "metadata": {},
     "outputs": [
      {
       "output_type": "stream",
       "stream": "stdout",
       "text": [
        "a = 41634.62908 +/- 2409.59186130181\n",
        "b = -0.011 +/- 0.00297019818057208\n"
       ]
      }
     ],
     "prompt_number": 4
    },
    {
     "cell_type": "markdown",
     "metadata": {},
     "source": [
      "## Plotagem"
     ]
    },
    {
     "cell_type": "code",
     "collapsed": false,
     "input": [
      "import matplotlib\n",
      "import matplotlib.pyplot as plt\n",
      "from pylab import *\n",
      "%matplotlib inline\n",
      "\n",
      "font = {'family' : 'Sans-Serif',        \n",
      "        'size'   : 18}\n",
      "\n",
      "matplotlib.rc('font', **font)\n",
      "\n",
      "line = [a*x + b for x in [0.0000005,0.0000045]]\n",
      "plt.plot(eixo_x, eixo_y, 'o', [0.0000005,0.0000045], line)\n",
      "plt.errorbar(eixo_x, eixo_y, yerr=erros_y, fmt=\"none\" )\n",
      "plt.ylabel('$ Velocidade \\; (m/s^2)$')\n",
      "plt.xlabel('$ r^2 \\; (m^2)$')\n",
      "\n",
      "plt.xlim([0.0000005,0.0000045])\n",
      "formatter =  matplotlib.ticker.ScalarFormatter()\n",
      "formatter.set_powerlimits((1,3))\n",
      "\n",
      "plt.axes().xaxis.set_major_formatter(formatter)\n",
      "\n",
      "\n",
      "plt.gcf().set_size_inches(14,9)\n",
      "plt.show()\n",
      "\n"
     ],
     "language": "python",
     "metadata": {},
     "outputs": [
      {
       "metadata": {},
       "output_type": "display_data",
       "png": "[encoded data removed]",
       "text": [
        "<matplotlib.figure.Figure at 0x7f925fb8ac50>"
       ]
      }
     ],
     "prompt_number": 5
    },
    {
     "cell_type": "markdown",
     "metadata": {},
     "source": [
      "#Tabelas"
     ]
    },
    {
     "cell_type": "code",
     "collapsed": false,
     "input": [
      "from tabulate import tabulate\n",
      "print(tabulate(Medidas_cruas,tablefmt=\"latex\"))"
     ],
     "language": "python",
     "metadata": {},
     "outputs": [
      {
       "output_type": "stream",
       "stream": "stdout",
       "text": [
        "\\begin{tabular}{lrr}\n",
        "\\hline\n",
        " [12.47, 12.22, 11.87, 11.97, 11.94] & 0.0001 & 0.002  \\\\\n",
        " [7.65, 7.87, 7.59, 7.6, 7.78]       & 0.0001 & 0.0025 \\\\\n",
        " [5.46, 5.29, 5.35, 5.69, 5.32]      & 0.0001 & 0.003  \\\\\n",
        " [4.07, 4.15, 4.09, 4.09, 4.13]      & 0.0001 & 0.0035 \\\\\n",
        " [3.12, 3.25, 3.28, 3.28, 3.25]      & 0.0001 & 0.004  \\\\\n",
        "\\hline\n",
        "\\end{tabular}\n"
       ]
      }
     ],
     "prompt_number": 30
    },
    {
     "cell_type": "code",
     "collapsed": false,
     "input": [],
     "language": "python",
     "metadata": {},
     "outputs": []
    }
   ],
   "metadata": {}
  }
 ]
}