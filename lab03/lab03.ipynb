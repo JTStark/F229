{
 "metadata": {
  "name": "",
  "signature": "sha256:53fc1db9810dc2eaeddcfdd8ba9e6e04bae6c4dac029467b1308181f1f12d27e"
 },
 "nbformat": 3,
 "nbformat_minor": 0,
 "worksheets": [
  {
   "cells": [
    {
     "cell_type": "markdown",
     "metadata": {},
     "source": [
      "## Valores e medidas "
     ]
    },
    {
     "cell_type": "code",
     "collapsed": false,
     "input": [
      "from sympy import *\n",
      "import numpy as np\n",
      "init_printing()\n",
      "\n",
      "## formulas de erro\n",
      "def erro_estatistico(list):\n",
      "    return np.std(list)/np.sqrt(len(list))\n",
      "\n",
      "def erro_total(list,erro_instrumental):\n",
      "    return np.sqrt(erro_estatistico(list)**2 + erro_instrumental**2)\n",
      "\n",
      "\n",
      "\n",
      "f, mi, m, n, l = symbols(\"f mi m n l\")\n",
      "E_f, E_mi, E_m, E_n, E_l = symbols(\"{\\Delta}f {\\Delta}mi {\\Delta}m {\\Delta}n {\\Delta}l\")\n",
      "a, E_a= symbols(\"a {\\Delta}a\")\n",
      "\n",
      "\n",
      "\n",
      "Valor = {  f:120, E_f:0, # Hertz\n",
      "           E_m: 0.0001 , # Kilos\n",
      "           E_l: 0.001 # Metros\n",
      "           }\n",
      "\n",
      "Medidas = [ \n",
      "    {m:0.2322, n:3, l:1.193},\n",
      "    {m:0.0498, n:7, l:1.300},\n",
      "    {m:0.0498, n:6, l:1.168},\n",
      "    {m:0.0498, n:5, l:0.973},\n",
      "    {m:0.1042, n:5, l:1.340},\n",
      "    {m:0.1042, n:4, l:1.065},\n",
      "    {m:0.1975, n:4, l:1.310},\n",
      "    {m:0.1975, n:3, l:0.985},\n",
      "    {m:0.2586, n:3, l:1.255},\n",
      "    {m:0.2586, n:2, l:0.875},\n",
      "    {m:0.0718, n:6, l:1.365},\n",
      "    {m:0.0718, n:5, l:1.155},\n",
      "    {m:0.0718, n:4, l:0.905}\n",
      "]\n",
      "\n"
     ],
     "language": "python",
     "metadata": {},
     "outputs": [],
     "prompt_number": 11
    },
    {
     "cell_type": "markdown",
     "metadata": {},
     "source": []
    },
    {
     "cell_type": "markdown",
     "metadata": {},
     "source": [
      "###Regress\u00e3o linear"
     ]
    },
    {
     "cell_type": "code",
     "collapsed": false,
     "input": [
      "eixo_x = [medida[l] for medida in Medidas]\n",
      "eixo_y = [medida[n]*np.sqrt(medida[m]) for medida in Medidas]\n",
      "\n",
      "erros_y = [medida[n]*Valor[E_m]/(2*np.sqrt(medida[m])) for medida in Medidas] # propaga\u00e7\u00e3o de erro de m para n*sqrt(m)\n",
      "\n",
      "w = [1/erro**2 for erro in erros_y]\n",
      "\n",
      "Valor[a],b = np.polyfit(eixo_x,eixo_y,1, w = w)\n",
      "print(\"a = \" + str(Valor[a]))\n",
      "print(\"b = \" +  str(b))\n"
     ],
     "language": "python",
     "metadata": {},
     "outputs": [
      {
       "output_type": "stream",
       "stream": "stdout",
       "text": [
        "a = 1.39849356052\n",
        "b = -0.195683564869\n"
       ]
      }
     ],
     "prompt_number": 24
    },
    {
     "cell_type": "markdown",
     "metadata": {},
     "source": [
      "#### Erro da lineariza\u00e7\u00e3o"
     ]
    },
    {
     "cell_type": "code",
     "collapsed": false,
     "input": [
      "soma_wx2 = sum([w[i] * eixo_x[i]**2 for i in range(len(eixo_x))])\n",
      "soma_wx = sum( [w[i] * eixo_x[i] for i in range(len(eixo_x))])\n",
      "\n",
      "delta = sum(w)*soma_wx2 - soma_wx**2\n",
      "\n",
      "Valor[E_a] = np.sqrt(sum(w)/delta)\n",
      "erro_b = np.sqrt(soma_wx2/delta)\n",
      "\n",
      "\n",
      "\n",
      "print(\"a = \" + str(np.round(Valor[a],decimals=4)) \n",
      "      + \" +/- \" +  str(np.round(Valor[E_a],decimals=4)) )\n",
      "\n",
      "print(\"b = \" + str(np.round(b,decimals=3))\n",
      "      + \" +/- \"  + str(np.round(erro_b,decimals=3)) )"
     ],
     "language": "python",
     "metadata": {},
     "outputs": [
      {
       "output_type": "stream",
       "stream": "stdout",
       "text": [
        "a = 1.3985 +/- 0.0007\n",
        "b = -0.196 +/- 0.001\n"
       ]
      }
     ],
     "prompt_number": 23
    },
    {
     "cell_type": "markdown",
     "metadata": {},
     "source": [
      "## Plotagem"
     ]
    },
    {
     "cell_type": "code",
     "collapsed": false,
     "input": [
      "import matplotlib\n",
      "import matplotlib.pyplot as plt\n",
      "%matplotlib inline\n",
      "\n",
      "font = {'family' : 'Sans-Serif',        \n",
      "        'size'   : 18}\n",
      "\n",
      "matplotlib.rc('font', **font)\n",
      "\n",
      "line = [Valor[a]*x + b for x in eixo_x]\n",
      "print(erros_y)\n",
      "plt.plot(eixo_x, eixo_y, 'o', eixo_x, line)\n",
      "plt.errorbar(eixo_x, eixo_y, yerr=erros_y, fmt='none')\n",
      "plt.ylabel('$n \\cdot \\sqrt{m} \\; (kg^{1/2})$')\n",
      "plt.xlabel('$L$ $(m)$')\n",
      "\n",
      "\n",
      "plt.gcf().set_size_inches(14,9)\n",
      "plt.show()\n",
      "\n"
     ],
     "language": "python",
     "metadata": {},
     "outputs": [
      {
       "output_type": "stream",
       "stream": "stdout",
       "text": [
        "[0.00031128640318234518, 0.0015683875023187728, 0.0013443321448446627, 0.0011202767873705521, 0.00077447276351098719, 0.00061957821080878977, 0.00045003516037040955, 0.00033752637027780722, 0.00029496942308796106, 0.00019664628205864069, 0.001119590056293114, 0.00093299171357759489, 0.00074639337086207589]\n"
       ]
      },
      {
       "metadata": {},
       "output_type": "display_data",
       "png": "[encoded data removed]",
       "text": [
        "<matplotlib.figure.Figure at 0x7fdba13e4f98>"
       ]
      }
     ],
     "prompt_number": 32
    },
    {
     "cell_type": "code",
     "collapsed": false,
     "input": [],
     "language": "python",
     "metadata": {},
     "outputs": [],
     "prompt_number": 10
    }
   ],
   "metadata": {}
  }
 ]
}