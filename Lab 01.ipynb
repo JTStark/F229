{
 "metadata": {
  "name": "",
  "signature": "sha256:45fa8be526ad6d79d5292992b80b028476fb9cebb2447f1fbe8a3d7fea5718d4"
 },
 "nbformat": 3,
 "nbformat_minor": 0,
 "worksheets": [
  {
   "cells": [
    {
     "cell_type": "heading",
     "level": 1,
     "metadata": {},
     "source": [
      "F229 lab01"
     ]
    },
    {
     "cell_type": "heading",
     "level": 2,
     "metadata": {},
     "source": [
      "Dados"
     ]
    },
    {
     "cell_type": "code",
     "collapsed": false,
     "input": [
      "x1,x2 = 0.0915, 0.742\n",
      "m1,m2 = 0.3743,0.9295\n",
      "\n",
      "erro_balanca = 0.0001\n",
      "erro_trena = 0.0005\n",
      "distancias = [104.5,99,94,89,84,79.15]\n",
      "distancias = [i/100 for i in distancias] # corre\u00e7\u00e3o de cent\u00edmetros para metros\n",
      "medidas =[[1.8866,1.8878,1.8881,1.8869,1.8867,1.8862,1.8864],\n",
      "          [1.8877,1.8882,1.8880,1.8880,1.8851,1.8874,1.8869],\n",
      "          [1.9018,1.9026,1.9020,1.9048,1.9020,1.9016,1.8985],\n",
      "          [1.9341,1.9349,1.9345,1.9342,1.9335,1.9335,1.9340],\n",
      "          [1.9956,1.9957,1.9947,1.9947,1.9946,1.9986,1.9935],\n",
      "          [2.1042,2.1027,2.1027,2.1024,2.1026,2.1023,2.1019]]\n"
     ],
     "language": "python",
     "metadata": {},
     "outputs": [],
     "prompt_number": 12
    },
    {
     "cell_type": "heading",
     "level": 4,
     "metadata": {},
     "source": [
      "M\u00e9dias e erros"
     ]
    },
    {
     "cell_type": "code",
     "collapsed": false,
     "input": [
      "import numpy as np\n",
      "\n",
      "def erro_estatistico(list):\n",
      "    return np.std(list)/np.sqrt(len(list))\n",
      "\n",
      "def erro_total(list,erro_instrumental):\n",
      "    return np.sqrt(erro_estatistico(list)**2 + erro_instrumental**2)\n",
      "\n",
      "\n",
      "periodos_medios = [np.mean(i) for i in medidas]\n",
      "erros_periodos = [erro_total(i,0.0001) for i in medidas]\n",
      "\n",
      "CM = (m1*x1 + m2*x2)/(m1 + m2)\n",
      "erro_cm = 0.000386182549618348 #obra do Jo\u00e3o + Pedro\n",
      "\n",
      "\n",
      "print(CM)\n",
      "\n",
      "for i in range(len(periodos_medios)):\n",
      "   print(str(np.round(periodos_medios[i],decimals=4)) + \" +/- \" + str(np.round(erros_periodos[i],decimals=4)) )"
     ],
     "language": "python",
     "metadata": {},
     "outputs": [
      {
       "output_type": "stream",
       "stream": "stdout",
       "text": [
        "0.5552519174720049\n",
        "1.887 +/- 0.0003\n",
        "1.8873 +/- 0.0004\n",
        "1.9019 +/- 0.0007\n",
        "1.9341 +/- 0.0002\n",
        "1.9953 +/- 0.0006\n",
        "2.1027 +/- 0.0003\n"
       ]
      }
     ],
     "prompt_number": 13
    },
    {
     "cell_type": "heading",
     "level": 4,
     "metadata": {},
     "source": [
      "Gr\u00e1fico\n"
     ]
    },
    {
     "cell_type": "code",
     "collapsed": false,
     "input": [
      "import matplotlib\n",
      "import matplotlib.pyplot as plt\n",
      "from numpy.polynomial.polynomial import polyfit\n",
      "%matplotlib inline\n",
      "font = {'family' : 'Sans-Serif',\n",
      "        'weight' : 'bold',\n",
      "        'size'   : 18}\n",
      "\n",
      "matplotlib.rc('font', **font)\n",
      "\n",
      "#eixos x e y\n",
      "eixo_x = [(distancia - CM)**2 for distancia in distancias]\n",
      "eixo_y = [(periodos_medios[i]**2)*(distancias[i] - CM) for i in range(len(medidas))]\n",
      "\n",
      "#erros em y\n",
      "erro_D = np.sqrt(erro_trena**2 +  erro_cm**2) \n",
      "erros_y = [periodos_medios[i] * np.sqrt((4*distancias[i]*erros_periodos[i])**2 + \n",
      "                                        (periodos_medios[i]*erro_D)**2) for i in range(len(medidas))] \n",
      "\n",
      "pesos = [1/(erro**2) for erro in erros_y]\n",
      "\n",
      "\n",
      "#regress\u00e3o linear\n",
      "valores = polyfit(eixo_x,eixo_y,1,w=pesos) \n",
      "a,b = valores[1],valores[0]\n",
      "\n",
      "line = [a*x + b for x in [0.05,0.25]]\n",
      "\n",
      "#plotagem\n",
      "plt.plot(eixo_x,eixo_y,'o',[0.05,0.25],line,\"r-\")\n",
      "plt.ylabel('T\u00b2D (Ms\u00b2)')\n",
      "plt.xlabel('D\u00b2 (M\u00b2)')\n",
      "plt.errorbar(eixo_x,eixo_y,yerr=erros_y,fmt=\"none\")\n",
      "plt.gcf().set_size_inches(14,9)\n",
      "plt.show()\n",
      "print(\"Coeficientes da reta: y = \" + str(np.round(a,decimals=4)) + \"x + \" + str(np.round(b,decimals=4))[:6] )\n",
      "\n"
     ],
     "language": "python",
     "metadata": {},
     "outputs": [
      {
       "metadata": {},
       "output_type": "display_data",
       "png": "[encoded data removed]",
       "text": [
        "<matplotlib.figure.Figure at 0x7f7d64120908>"
       ]
      },
      {
       "output_type": "stream",
       "stream": "stdout",
       "text": [
        "Coeficientes da reta: y = 3.8168x + 0.827\n"
       ]
      }
     ],
     "prompt_number": 14
    },
    {
     "cell_type": "heading",
     "level": 4,
     "metadata": {},
     "source": [
      "Erros dos coeficientes\n"
     ]
    },
    {
     "cell_type": "code",
     "collapsed": false,
     "input": [
      "soma_wx2 = sum([pesos[i] * eixo_x[i]**2 for i in range(len(eixo_x))])\n",
      "soma_wx = sum( [pesos[i] * eixo_x[i] for i in range(len(medidas))])\n",
      "\n",
      "delta = sum(pesos)*soma_wx2 - soma_wx**2\n",
      "erro_a = np.sqrt(sum(pesos)/delta)\n",
      "erro_b = np.sqrt(soma_wx2/delta)\n",
      "\n",
      "\n",
      "# arredondagens bonitas\n",
      "print(\"a = \" + str(np.round(a,decimals=2)) + \" +/- \" +  str(np.round(erro_a,decimals=5)) )\n",
      "print(\"b = \" + str(np.round(b,decimals=3)) + \" +/- \"  + str(np.round(erro_b,decimals=5)) )"
     ],
     "language": "python",
     "metadata": {},
     "outputs": [
      {
       "output_type": "stream",
       "stream": "stdout",
       "text": [
        "a = 3.82 +/- 0.0217\n",
        "b = 0.827 +/- 0.00337\n"
       ]
      }
     ],
     "prompt_number": 24
    },
    {
     "cell_type": "heading",
     "level": 4,
     "metadata": {},
     "source": [
      "g, k e I"
     ]
    },
    {
     "cell_type": "code",
     "collapsed": false,
     "input": [
      "# gravidade, com seu respectivo erro\n",
      "g = 4*(np.pi**2)/a\n",
      "delta_g = ((4*np.pi**2) * erro_a)/(a**2)\n",
      "\n",
      "# Raio de gira\u00e7\u00e3o, com seu respectivo erro\n",
      "k = np.sqrt((b * g)/(4*(np.pi**2)))\n",
      "delta_k = np.sqrt((1/(4*np.pi*np.sqrt(b*g)))**2 * ((g*erro_b)**2 + (b*delta_g)**2)) #Meu deus\n",
      "\n",
      "I = (m1 + m2)* k**2\n",
      "delta_I = np.sqrt((np.sqrt(2)*erro_balanca*k**2) + (2*(m1+m2)*k*delta_k)**2)\n",
      "\n",
      "print(\"g = \" +  str(g) + \" +/- \" + str(delta_g))\n",
      "print(\"k = \" + str(k) + \" +/- \" + str(delta_k))\n",
      "print(\"I = \" + str(I) + \" +/- \" + str(delta_I))"
     ],
     "language": "python",
     "metadata": {},
     "outputs": [
      {
       "output_type": "stream",
       "stream": "stdout",
       "text": [
        "g = 10.3434056544 +/- 0.0588062340498\n",
        "k = 0.46549446927 +/- 0.00162785217808\n",
        "I = 0.282514034581 +/- 0.00587777003395\n"
       ]
      }
     ],
     "prompt_number": 16
    },
    {
     "cell_type": "code",
     "collapsed": false,
     "input": [
      "#T\u00b2D\n",
      "for i in range(len(medidas)):\n",
      "    print(np.round(((distancias[i] - CM)*periodos_medios[i]**2),decimals=3))"
     ],
     "language": "python",
     "metadata": {},
     "outputs": [
      {
       "output_type": "stream",
       "stream": "stdout",
       "text": [
        "1.744\n",
        "1.549\n",
        "1.392\n",
        "1.252\n",
        "1.134\n",
        "1.045\n"
       ]
      }
     ],
     "prompt_number": 23
    },
    {
     "cell_type": "code",
     "collapsed": false,
     "input": [
      "#Erros em T\u00b2D\n",
      "from numpy import *\n",
      "for i in range(len(medidas)):\n",
      "    print(sqrt(4*(distancias[i]-CM)**2*erros_periodos[i]**2*periodos_medios[i]**2 + 0.0003**2*periodos_medios[i]**4))"
     ],
     "language": "python",
     "metadata": {},
     "outputs": [
      {
       "output_type": "stream",
       "stream": "stdout",
       "text": [
        "0.00117944690371\n",
        "0.00124540678012\n",
        "0.00144864814634\n",
        "0.00115275634147\n",
        "0.00136016263156\n",
        "0.00135373418044\n"
       ]
      }
     ],
     "prompt_number": 20
    },
    {
     "cell_type": "code",
     "collapsed": false,
     "input": [],
     "language": "python",
     "metadata": {},
     "outputs": [],
     "prompt_number": 7
    },
    {
     "cell_type": "code",
     "collapsed": false,
     "input": [],
     "language": "python",
     "metadata": {},
     "outputs": []
    }
   ],
   "metadata": {}
  }
 ]
}