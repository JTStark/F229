{
 "metadata": {
  "name": "",
  "signature": "sha256:2e6bfd7768a4d5ddd56a7f5e132cd3f316506c8fbf47d7a5b1753bc62890e5e4"
 },
 "nbformat": 3,
 "nbformat_minor": 0,
 "worksheets": [
  {
   "cells": [
    {
     "cell_type": "heading",
     "level": 1,
     "metadata": {},
     "source": [
      "F229 lab01"
     ]
    },
    {
     "cell_type": "heading",
     "level": 2,
     "metadata": {},
     "source": [
      "Dados"
     ]
    },
    {
     "cell_type": "code",
     "collapsed": false,
     "input": [
      "x1,x2 = 0.0915, 0.742\n",
      "m1,m2 = 374.3,929.5\n",
      "\n",
      "erro_balanca = 0.0001\n",
      "erro_trena = 0.0005\n",
      "distancias = [104.5,99,94,89,84,79.15]\n",
      "distancias = [i/100 for i in distancias] # corre\u00e7\u00e3o de cent\u00edmetros para metros\n",
      "medidas =[[1.8866,1.8878,1.8881,1.8869,1.8867,1.8862,1.8864],\n",
      "          [1.8877,1.8882,1.8880,1.8880,1.8851,1.8874,1.8869],\n",
      "          [1.9018,1.9026,1.9020,1.9048,1.9020,1.9016,1.8985],\n",
      "          [1.9341,1.9349,1.9345,1.9342,1.9335,1.9335,1.9340],\n",
      "          [1.9956,1.9957,1.9947,1.9947,1.9946,1.9986,1.9935],\n",
      "          [2.1042,2.1027,2.1027,2.1024,2.1026,2.1023,2.1019]]\n"
     ],
     "language": "python",
     "metadata": {},
     "outputs": [],
     "prompt_number": 2
    },
    {
     "cell_type": "heading",
     "level": 4,
     "metadata": {},
     "source": [
      "M\u00e9dias e erros"
     ]
    },
    {
     "cell_type": "code",
     "collapsed": false,
     "input": [
      "import numpy as np\n",
      "\n",
      "def erro_estatistico(list):\n",
      "    return np.std(list)/np.sqrt(len(list))\n",
      "\n",
      "def erro_total(list,erro_instrumental):\n",
      "    return np.sqrt(erro_estatistico(list)**2 + erro_instrumental**2)\n",
      "\n",
      "\n",
      "periodos_medios = [np.mean(i) for i in medidas]\n",
      "erros_periodos = [erro_total(i,0.0001) for i in medidas]\n",
      "\n",
      "CM = (m1*x1 + m2*x2)/(m1 + m2)\n",
      "erro_cm = 0.00917669 #obra do Jo\u00e3o + Pedro\n",
      "\n",
      "\n",
      "print(CM)\n",
      "\n",
      "for i in range(len(periodos_medios)):\n",
      "   print(str(np.round(periodos_medios[i],decimals=4)) + \" +/- \" + str(np.round(erros_periodos[i],decimals=4)) )"
     ],
     "language": "python",
     "metadata": {},
     "outputs": [
      {
       "output_type": "stream",
       "stream": "stdout",
       "text": [
        "0.555251917472005\n",
        "1.887 +/- 0.0003\n",
        "1.8873 +/- 0.0004\n",
        "1.9019 +/- 0.0007\n",
        "1.9341 +/- 0.0002\n",
        "1.9953 +/- 0.0006\n",
        "2.1027 +/- 0.0003\n"
       ]
      }
     ],
     "prompt_number": 3
    },
    {
     "cell_type": "heading",
     "level": 4,
     "metadata": {},
     "source": [
      "Gr\u00e1fico\n"
     ]
    },
    {
     "cell_type": "code",
     "collapsed": false,
     "input": [
      "import matplotlib\n",
      "import matplotlib.pyplot as plt\n",
      "from numpy.polynomial.polynomial import polyfit\n",
      "%matplotlib inline\n",
      "font = {'family' : 'Sans-Serif',\n",
      "        'weight' : 'bold',\n",
      "        'size'   : 18}\n",
      "\n",
      "matplotlib.rc('font', **font)\n",
      "\n",
      "#eixos x e y\n",
      "eixo_x = [(distancia - CM)**2 for distancia in distancias]\n",
      "eixo_y = [(periodos_medios[i]**2)*(distancias[i] - CM) for i in range(len(medidas))]\n",
      "\n",
      "#erros em y\n",
      "erro_D = np.sqrt(erro_trena**2 +  erro_cm**2) \n",
      "erros_y = [periodos_medios[i] * np.sqrt((4*distancias[i]*erros_periodos[i])**2 + \n",
      "                                        (periodos_medios[i]*erro_D)**2) for i in range(len(medidas))] \n",
      "\n",
      "pesos = [1/(erro**2) for erro in erros_y]\n",
      "\n",
      "\n",
      "#regress\u00e3o linear\n",
      "valores = polyfit(eixo_x,eixo_y,1,w=pesos) \n",
      "a,b = valores[1],valores[0]\n",
      "\n",
      "line = [a*x + b for x in [0.05,0.25]]\n",
      "\n",
      "#plotagem\n",
      "plt.plot(eixo_x,eixo_y,'o',[0.05,0.25],line,\"r-\")\n",
      "plt.ylabel('T\u00b2D (Ms\u00b2)')\n",
      "plt.xlabel('D\u00b2 (M\u00b2)')\n",
      "plt.errorbar(eixo_x,eixo_y,yerr=erros_y,fmt=\"none\")\n",
      "plt.gcf().set_size_inches(14,9)\n",
      "plt.show()\n",
      "print(\"Coeficientes da reta: y = \" + str(np.round(a,decimals=4)) + \"x + \" + str(np.round(b,decimals=4))[:6] )\n",
      "\n"
     ],
     "language": "python",
     "metadata": {},
     "outputs": [
      {
       "metadata": {},
       "output_type": "display_data",
       "png": "[encoded data removed]",
       "text": [
        "<matplotlib.figure.Figure at 0x7ff8d4e17208>"
       ]
      },
      {
       "output_type": "stream",
       "stream": "stdout",
       "text": [
        "0.00919030137461\n",
        "Coeficientes da reta: y = 3.8253x + 0.8256\n"
       ]
      }
     ],
     "prompt_number": 4
    },
    {
     "cell_type": "heading",
     "level": 4,
     "metadata": {},
     "source": [
      "Erros dos coeficientes\n"
     ]
    },
    {
     "cell_type": "code",
     "collapsed": false,
     "input": [
      "soma_wx2 = sum([pesos[i] * eixo_x[i]**2 for i in range(len(eixo_x))])\n",
      "soma_wx = sum( [pesos[i] * eixo_x[i] for i in range(len(medidas))])\n",
      "\n",
      "delta = sum(pesos)*soma_wx2 - soma_wx**2\n",
      "erro_a = np.sqrt(sum(pesos)/delta)\n",
      "erro_b = np.sqrt(soma_wx2/delta)\n",
      "\n",
      "\n",
      "# arredondagens bonitas\n",
      "print(\"a = \" + str(np.round(a,decimals=1)) + \" +/- \" +  str(np.round(erro_a,decimals=1)) )\n",
      "print(\"b = \" + str(np.round(b,decimals=2)) + \" +/- \"  + str(np.round(erro_b,decimals=2)) )"
     ],
     "language": "python",
     "metadata": {},
     "outputs": [
      {
       "output_type": "stream",
       "stream": "stdout",
       "text": [
        "a = 3.8 +/- 0.2\n",
        "b = 0.83 +/- 0.04\n"
       ]
      }
     ],
     "prompt_number": 14
    },
    {
     "cell_type": "heading",
     "level": 4,
     "metadata": {},
     "source": [
      "g, k e I"
     ]
    },
    {
     "cell_type": "code",
     "collapsed": false,
     "input": [
      "# gravidade, com seu respectivo erro\n",
      "g = 4*(np.pi**2)/a\n",
      "delta_g = ((4*np.pi**2) * erro_a)/(a**2)\n",
      "\n",
      "# Raio de gira\u00e7\u00e3o, com seu respectivo erro\n",
      "k = np.sqrt((b * g)/(4*(np.pi**2)))\n",
      "delta_k = np.sqrt((1/(4*np.pi*np.sqrt(b*g)))**2 * ((g*erro_b)**2 + (b*delta_g)**2)) #Meu deus\n",
      "\n",
      "I = (m1 + m2)* k**2\n",
      "delta_I = np.sqrt((np.sqrt(2)*erro_balanca*k**2) + (2*(m1+m2)*k*delta_k)**2)\n",
      "\n",
      "print(\"g = \" +  str(g) + \" +/- \" + str(delta_g))\n",
      "print(\"k = \" + str(k) + \" +/- \" + str(delta_k))\n",
      "print(\"I = \" + str(I) + \" +/- \" + str(delta_I))"
     ],
     "language": "python",
     "metadata": {},
     "outputs": [
      {
       "output_type": "stream",
       "stream": "stdout",
       "text": [
        "g = 10.3200882696 +/- 0.618916669916\n",
        "k = 0.464549969636 +/- 0.0172697330607\n",
        "I = 0.281368741937 +/- 0.0216370223816\n"
       ]
      }
     ],
     "prompt_number": 48
    },
    {
     "cell_type": "code",
     "collapsed": false,
     "input": [
      "# Gerador de tabelas latex\n",
      "for i in range(len(medidas)) :\n",
      "    print(\"\\hline\")\n",
      "    print(str(np.round(distancias[i] - CM,decimals=4)) + \" & \",end=\"\")\n",
      "    print(str(np.round(periodos_medios[i],decimals=4) ) + \" & \",end=\"\")\n",
      "    print(str(np.round(eixo_x[i],decimals=4) ) + \" & \",end=\"\")\n",
      "    print(\"$\" + str(np.round(eixo_y[i],decimals=2)) + \" \\pm \" + str(np.round(erros_y[i],decimals=2)) + \"$\\\\\\\\\" )"
     ],
     "language": "python",
     "metadata": {},
     "outputs": [
      {
       "output_type": "stream",
       "stream": "stdout",
       "text": [
        "\\hline\n",
        "0.4897 & 1.887 & 0.2399 & $1.74 \\pm 0.03$\\\\\n",
        "\\hline\n",
        "0.4347 & 1.8873 & 0.189 & $1.55 \\pm 0.03$\\\\\n",
        "\\hline\n",
        "0.3847 & 1.9019 & 0.148 & $1.39 \\pm 0.03$\\\\\n",
        "\\hline\n",
        "0.3347 & 1.9341 & 0.1121 & $1.25 \\pm 0.03$\\\\\n",
        "\\hline\n",
        "0.2847 & 1.9953 & 0.0811 & $1.13 \\pm 0.04$\\\\\n",
        "\\hline\n",
        "0.2362 & 2.1027 & 0.0558 & $1.04 \\pm 0.04$\\\\\n"
       ]
      }
     ],
     "prompt_number": 7
    },
    {
     "cell_type": "code",
     "collapsed": false,
     "input": [],
     "language": "python",
     "metadata": {},
     "outputs": [],
     "prompt_number": 7
    },
    {
     "cell_type": "code",
     "collapsed": false,
     "input": [],
     "language": "python",
     "metadata": {},
     "outputs": [],
     "prompt_number": 7
    },
    {
     "cell_type": "code",
     "collapsed": false,
     "input": [],
     "language": "python",
     "metadata": {},
     "outputs": []
    }
   ],
   "metadata": {}
  }
 ]
}